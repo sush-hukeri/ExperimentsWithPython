{
 "cells": [
  {
   "cell_type": "markdown",
   "metadata": {},
   "source": [
    "In this notebook, I will demonstrate how to solve **Time Value of Money** problems using the NumPy library."
   ]
  },
  {
   "cell_type": "code",
   "execution_count": 1,
   "metadata": {},
   "outputs": [
    {
     "name": "stdout",
     "output_type": "stream",
     "text": [
      "Python Version: 3.6.1\n",
      "Numpy Version: 1.12.1\n"
     ]
    }
   ],
   "source": [
    "import numpy as np\n",
    "import platform\n",
    "print('Python Version: {}'.format(platform.python_version()))\n",
    "print('Numpy Version: {}'.format(np.__version__))"
   ]
  },
  {
   "cell_type": "markdown",
   "metadata": {},
   "source": [
    "# Example 1: Simple Compounding\n",
    "**A client invests $2 million in a money market fund projected to earn 3 percent annually. Estimate the value of this investment after seven years.**<br><br>\n",
    "This is a very simple problem where we have to calculate the future value of an investment that grows over a certain period of time by virtue of compounding."
   ]
  },
  {
   "cell_type": "code",
   "execution_count": 2,
   "metadata": {},
   "outputs": [
    {
     "name": "stdout",
     "output_type": "stream",
     "text": [
      "$2,459,747.73\n"
     ]
    }
   ],
   "source": [
    "rate = 3 / 100      # Given that fund is projected to earn 3% annually\n",
    "number_periods = 7  # Given that the client stays invested for 7 years\n",
    "pmt = 0             # Zero because there are no intermediate payments\n",
    "initial_investment = -2000000  # Negative because it's a cash outflow\n",
    "\n",
    "fv_of_portfolio = np.fv(rate=rate, nper=number_periods, pmt=pmt, pv=initial_investment)\n",
    "\n",
    "print('${:,.2f}'.format(fv_of_portfolio))"
   ]
  },
  {
   "cell_type": "markdown",
   "metadata": {},
   "source": [
    "As can be seen from the output above, the client’s initial investment of **\\$2 million** will have risen to **\\$2,459,747.73** after 7 years.\n",
    "<br>\n",
    "# Example 2: Calculating the Present Value of a future investment\n",
    "**To cover the first year’s total college tuition payments for his two children, a father will make a \\$75,000 payment five years from now. How much will he need to invest today to meet his first tuition goal if the investment earns 6 percent annually?**<br><br>\n",
    "The amount that the father invests today grows to equal the required cash outflow of \\$75,000 five years from now. Therefore, we have to calculate the present value of this cash outflow at the given 6% rate of return."
   ]
  },
  {
   "cell_type": "code",
   "execution_count": 3,
   "metadata": {},
   "outputs": [
    {
     "name": "stdout",
     "output_type": "stream",
     "text": [
      "$56,044.36\n"
     ]
    }
   ],
   "source": [
    "rate = 6 / 100      # Given that the investment earns 6% annually\n",
    "number_periods = 5  # 5 years of investment\n",
    "pmt = 0             # No intermediate payments; hence, zero\n",
    "expected_value = 75000  # Expected value at end of investment period\n",
    "\n",
    "present_value = np.pv(rate=rate, nper=number_periods, pmt=0, fv=expected_value)\n",
    "\n",
    "print('${:,.2f}'.format(-present_value))"
   ]
  },
  {
   "cell_type": "markdown",
   "metadata": {},
   "source": [
    "Thus, the father needs to make an investment of **\\$56,044.36** today to meet his goal.\n",
    "<br>\n",
    "\n",
    "# Example 3: Calculating the compound interest on an investment\n",
    "**An investor contributes \\$100,000 to an investment portfolio today. At the end of 5 years, she finds that the portfolio is now worth \\$155,000. What has been the growth rate of her portfolio?**\n",
    "<br><br>\n",
    "This is easily obtained by calling the rate() function with the appropriate parameters."
   ]
  },
  {
   "cell_type": "code",
   "execution_count": 4,
   "metadata": {},
   "outputs": [
    {
     "name": "stdout",
     "output_type": "stream",
     "text": [
      "9.16%\n"
     ]
    }
   ],
   "source": [
    "number_periods = 5\n",
    "pmt = 0\n",
    "investment = -100000\n",
    "fv = 155000\n",
    "\n",
    "rate_of_growth = np.rate(nper=number_periods, pmt=pmt, pv=investment, fv=fv)\n",
    "\n",
    "print('{:.2f}%'.format(rate_of_growth * 100))"
   ]
  },
  {
   "cell_type": "markdown",
   "metadata": {},
   "source": [
    "Therefore, the investor’s portfolio has grown at a compounded rate of **9.16%** per year for the last 5 years.<br>\n",
    "\n",
    "# Example 4: Calculating monthly payments\n",
    "**You are planning to purchase a \\$600,000 house by making a down payment of \\$120,000 and borrowing the remainder with a 30-year fixed-rate mortgage with monthly payments. The first payment is due at the end of the first year, i.e., t = 1. Current mortgage interest rates are quoted at 2.69 percent with monthly compounding. What will your monthly mortgage payments be?**"
   ]
  },
  {
   "cell_type": "code",
   "execution_count": 5,
   "metadata": {},
   "outputs": [
    {
     "name": "stdout",
     "output_type": "stream",
     "text": [
      "$1,919.12\n"
     ]
    }
   ],
   "source": [
    "rate = (2.59 / 12) / 100  # Divide by 12 to account for monthly compounding\n",
    "nper = 30 * 12  # Monthly payments each year for 30 years\n",
    "\n",
    "# Loan amount = Purchase price less down payment; negative sign to indicate cash outflow\n",
    "loan_amount = -(600000 - 120000)  \n",
    "\n",
    "future_value = 0  # Zero because the loan is fully paid off at the end of the 30th year\n",
    "\n",
    "monthly_payment = np.pmt(rate=rate, nper=nper, pv=loan_amount, fv=future_value)\n",
    "\n",
    "print('${:,.2f}'.format(monthly_payment))"
   ]
  },
  {
   "cell_type": "markdown",
   "metadata": {},
   "source": [
    "As can be seen above, the monthly payment for this mortgage structure will be **\\$1,919.12**.<br>\n",
    "\n",
    "# Example 5: The Projected Annuity Amount Needed to Fund a Future-Annuity Inflow\n",
    "\n",
    "**Jill Grant is 22 years old (at t = 0) and is planning for her retirement at age 63 (at t = 41). She plans to save \\$2,000 per year for the next 15 years (t = 1 to t = 15). She wants to have retirement income of \\$100,000 per year for 20 years, with the first retirement payment starting at t = 41. How much must Grant save each year from t = 16 to t = 40 in order to achieve her retirement goal? Assume she plans to invest in a diversified stock-and-bond mutual fund that will earn 8 percent per year on average.**\n",
    "<br><br>\n",
    "\n",
    "Here, we have to find out how much Grant needs to contribute to her retirement portfolio every year for the 25 years from t=16 to t=40 so that she can meet her retirement goal.\n",
    "\n",
    "We will solve this problem by breaking it down into the following three steps:\n",
    "1.  Find the value of Grant’s portfolio at the end of t=15. This is a simple future value calculation.\n",
    "+ The next step is to calculate the final value of the portfolio right before Grant start funding her retirement. This is the same as the present value of the annuity of \\$100,000 per year for 20 years at t=40.\n",
    "+ Now that we have the portfolio values at t=15 and t=40, we have to calculate the annual payments for 25 years. For this calculation, the portfolio values at t=15 and t=40 become the present value and future value of the portfolio, respectively."
   ]
  },
  {
   "cell_type": "code",
   "execution_count": 6,
   "metadata": {},
   "outputs": [
    {
     "name": "stdout",
     "output_type": "stream",
     "text": [
      "$54,304.23\n"
     ]
    }
   ],
   "source": [
    "# With $2000 saved per year for the next 15 years,\n",
    "# let's see what the portfolio would be worth at the end of these 15 years\n",
    "portfolio_t_15 = np.fv(rate=8/100, nper=15, pmt=-2000, pv=0)\n",
    "print('${:,.2f}'.format(portfolio_t_15))"
   ]
  },
  {
   "cell_type": "markdown",
   "metadata": {},
   "source": [
    "Therefore, the portfolio value at t=15 will be **\\$54,304.23**."
   ]
  },
  {
   "cell_type": "code",
   "execution_count": 7,
   "metadata": {},
   "outputs": [
    {
     "name": "stdout",
     "output_type": "stream",
     "text": [
      "$981,814.74\n"
     ]
    }
   ],
   "source": [
    "# Now, let's calculate the required value of her portfolio at retirement\n",
    "# to fund an annuity of $100,000 per year for 20 years\n",
    "# This can be done by computing the present value of the annuity\n",
    "portfolio_t_40 = np.pv(rate=8/100, nper=20, pmt=-100000, fv=0)\n",
    "print('${:,.2f}'.format(portfolio_t_40))"
   ]
  },
  {
   "cell_type": "markdown",
   "metadata": {},
   "source": [
    "Thus, to fund the annuity, there should be **\\$981,814.74** in the retirement account."
   ]
  },
  {
   "cell_type": "code",
   "execution_count": 8,
   "metadata": {},
   "outputs": [
    {
     "name": "stdout",
     "output_type": "stream",
     "text": [
      "$8,342.87\n"
     ]
    }
   ],
   "source": [
    "# Now, the last step is to determine how much Grant needs to contribute\n",
    "# to her portfolio annually from t=15 to t=40, i.e, for a total of 25 years\n",
    "reqd_savings = np.pmt(rate=8/100, nper=25, pv=portfolio_t_15, fv=-portfolio_t_40)\n",
    "print('${:,.2f}'.format(reqd_savings))"
   ]
  },
  {
   "cell_type": "markdown",
   "metadata": {},
   "source": [
    "Thus, we see that Grant needs to contribute **\\$8,342.87** every year from t=16 to t=40 to meet her retirement goals."
   ]
  }
 ],
 "metadata": {
  "kernelspec": {
   "display_name": "Python 3",
   "language": "python",
   "name": "python3"
  },
  "language_info": {
   "codemirror_mode": {
    "name": "ipython",
    "version": 3
   },
   "file_extension": ".py",
   "mimetype": "text/x-python",
   "name": "python",
   "nbconvert_exporter": "python",
   "pygments_lexer": "ipython3",
   "version": "3.6.1"
  }
 },
 "nbformat": 4,
 "nbformat_minor": 2
}
