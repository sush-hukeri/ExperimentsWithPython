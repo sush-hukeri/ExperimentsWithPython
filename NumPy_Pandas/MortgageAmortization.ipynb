{
 "cells": [
  {
   "cell_type": "markdown",
   "metadata": {},
   "source": [
    "In this notebook, we will design an **amortisation schedule** and then perform some data analysis on it.<br>\n",
    "\n",
    "As an example, let’s use a fixed-rate, level-payment, fully amortised residential mortgage as an input for our amortisation schedule. A fixed-rate, level-payment, fully amortised mortgage is characterised by:<br>\n",
    "\n",
    "-  A fixed mortgage rate over the term of the loan;\n",
    "-  Equal dollar amounts of each periodic mortgage payment;\n",
    "-  Reduction of mortgage balance to zero with the last mortgage payment.\n",
    "\n",
    "Consider the following mortgage:*<br>\n",
    "\n",
    "**Mortgage Loan:** $800,000<br>\n",
    "**Mortgage Rate:** 2.183%<br>\n",
    "**Term of the Loan:** 30 years<br>\n",
    "**Payment Schedule:** Bi-weekly, i.e., payments every 10 business days (26 payments per year)<br>\n",
    "\n",
    "*For simplicity, let's assume that the borrower makes no prepayments.<br><br>"
   ]
  },
  {
   "cell_type": "code",
   "execution_count": 1,
   "metadata": {
    "collapsed": true
   },
   "outputs": [],
   "source": [
    "import pandas as pd\n",
    "import numpy as np\n",
    "from datetime import date\n",
    "import matplotlib.pyplot as plt\n",
    "%matplotlib inline"
   ]
  },
  {
   "cell_type": "code",
   "execution_count": 2,
   "metadata": {},
   "outputs": [],
   "source": [
    "annual_interest_rate = 0.02183\n",
    "mortgage_term = 30\n",
    "num_payments_per_yr = 26\n",
    "mortgage = 800000\n",
    "first_payment_date = date(2017, 3, 16)"
   ]
  },
  {
   "cell_type": "markdown",
   "metadata": {},
   "source": [
    "Because the quoted interest rate is an annual interest rate and the borrower makes bi-weekly payments, we will have to calculate the actual rate as the annual rate divided by the number of payments in a year.<br><br>\n",
    "Similarly, the number of payments over the mortgage period is the product of the mortgage term and the number of payments a year."
   ]
  },
  {
   "cell_type": "code",
   "execution_count": 3,
   "metadata": {
    "collapsed": true
   },
   "outputs": [],
   "source": [
    "interest_rate = annual_interest_rate / num_payments_per_yr\n",
    "num_periods = mortgage_term * num_payments_per_yr"
   ]
  },
  {
   "cell_type": "markdown",
   "metadata": {},
   "source": [
    "**Next, we compute the payment dates.**"
   ]
  },
  {
   "cell_type": "code",
   "execution_count": 4,
   "metadata": {
    "scrolled": true
   },
   "outputs": [
    {
     "data": {
      "text/plain": [
       "DatetimeIndex(['2017-03-16', '2017-03-30', '2017-04-13', '2017-04-27',\n",
       "               '2017-05-11'],\n",
       "              dtype='datetime64[ns]', name='Payment Date', freq='10B')"
      ]
     },
     "execution_count": 4,
     "metadata": {},
     "output_type": "execute_result"
    }
   ],
   "source": [
    "rng = pd.date_range(first_payment_date, periods=num_periods, freq='10B')\n",
    "rng.name = 'Payment Date'\n",
    "rng[:5]"
   ]
  },
  {
   "cell_type": "markdown",
   "metadata": {},
   "source": [
    "**The bi-weekly payment amount is calculated as follows:**"
   ]
  },
  {
   "cell_type": "code",
   "execution_count": 5,
   "metadata": {},
   "outputs": [
    {
     "data": {
      "text/plain": [
       "-1398.3"
      ]
     },
     "execution_count": 5,
     "metadata": {},
     "output_type": "execute_result"
    }
   ],
   "source": [
    "pmt = round(np.pmt(interest_rate, num_periods, mortgage), 2)\n",
    "pmt"
   ]
  },
  {
   "cell_type": "markdown",
   "metadata": {},
   "source": [
    "**We are now ready to design the amortisation schedule.**"
   ]
  },
  {
   "cell_type": "code",
   "execution_count": 6,
   "metadata": {},
   "outputs": [],
   "source": [
    "beginning_bal = mortgage\n",
    "\n",
    "principal = round(np.ppmt(pv=mortgage, rate=interest_rate, nper=num_periods, per=num_periods, fv=0), 2)\n",
    "\n",
    "interest = np.ipmt(pv=mortgage, rate=interest_rate, nper=num_periods, per=num_periods, fv=0)\n",
    "\n",
    "ending_bal = np.pv(fv=0, pmt=pmt, rate=interest_rate, nper=0)"
   ]
  },
  {
   "cell_type": "code",
   "execution_count": 7,
   "metadata": {},
   "outputs": [],
   "source": [
    "records=[]\n",
    "end_bal = mortgage\n",
    "\n",
    "for i in range(1, len(rng)+1):\n",
    "    bgn_bal = end_bal\n",
    "    \n",
    "    principal = np.ppmt(pv=mortgage, rate=interest_rate, nper=num_periods, per=i, fv=0)\n",
    "    \n",
    "    interest = float(np.ipmt(pv=mortgage, rate=interest_rate, nper=num_periods, per=i, fv=0))\n",
    "    \n",
    "    end_bal = np.pv(fv=0, pmt=pmt, rate=interest_rate, nper=len(rng)-i)\n",
    "    \n",
    "    records.append((bgn_bal, -pmt, -principal, -interest, end_bal))"
   ]
  },
  {
   "cell_type": "code",
   "execution_count": 8,
   "metadata": {},
   "outputs": [],
   "source": [
    "columns=['Beginning Balance', 'Payment', 'Principal', 'Interest', 'Ending Balance']"
   ]
  },
  {
   "cell_type": "code",
   "execution_count": 9,
   "metadata": {},
   "outputs": [],
   "source": [
    "amort_df = pd.DataFrame.from_records(records, index=rng, columns=columns).round(2)"
   ]
  },
  {
   "cell_type": "code",
   "execution_count": 10,
   "metadata": {},
   "outputs": [
    {
     "data": {
      "text/html": [
       "<div>\n",
       "<style>\n",
       "    .dataframe thead tr:only-child th {\n",
       "        text-align: right;\n",
       "    }\n",
       "\n",
       "    .dataframe thead th {\n",
       "        text-align: left;\n",
       "    }\n",
       "\n",
       "    .dataframe tbody tr th {\n",
       "        vertical-align: top;\n",
       "    }\n",
       "</style>\n",
       "<table border=\"1\" class=\"dataframe\">\n",
       "  <thead>\n",
       "    <tr style=\"text-align: right;\">\n",
       "      <th></th>\n",
       "      <th>Beginning Balance</th>\n",
       "      <th>Payment</th>\n",
       "      <th>Principal</th>\n",
       "      <th>Interest</th>\n",
       "      <th>Ending Balance</th>\n",
       "    </tr>\n",
       "    <tr>\n",
       "      <th>Payment Date</th>\n",
       "      <th></th>\n",
       "      <th></th>\n",
       "      <th></th>\n",
       "      <th></th>\n",
       "      <th></th>\n",
       "    </tr>\n",
       "  </thead>\n",
       "  <tbody>\n",
       "    <tr>\n",
       "      <th>2017-03-16</th>\n",
       "      <td>800000.00</td>\n",
       "      <td>1398.3</td>\n",
       "      <td>726.61</td>\n",
       "      <td>671.69</td>\n",
       "      <td>799272.90</td>\n",
       "    </tr>\n",
       "    <tr>\n",
       "      <th>2017-03-30</th>\n",
       "      <td>799272.90</td>\n",
       "      <td>1398.3</td>\n",
       "      <td>727.22</td>\n",
       "      <td>671.08</td>\n",
       "      <td>798545.69</td>\n",
       "    </tr>\n",
       "    <tr>\n",
       "      <th>2017-04-13</th>\n",
       "      <td>798545.69</td>\n",
       "      <td>1398.3</td>\n",
       "      <td>727.83</td>\n",
       "      <td>670.47</td>\n",
       "      <td>797817.86</td>\n",
       "    </tr>\n",
       "    <tr>\n",
       "      <th>2017-04-27</th>\n",
       "      <td>797817.86</td>\n",
       "      <td>1398.3</td>\n",
       "      <td>728.44</td>\n",
       "      <td>669.86</td>\n",
       "      <td>797089.42</td>\n",
       "    </tr>\n",
       "    <tr>\n",
       "      <th>2017-05-11</th>\n",
       "      <td>797089.42</td>\n",
       "      <td>1398.3</td>\n",
       "      <td>729.05</td>\n",
       "      <td>669.25</td>\n",
       "      <td>796360.37</td>\n",
       "    </tr>\n",
       "  </tbody>\n",
       "</table>\n",
       "</div>"
      ],
      "text/plain": [
       "              Beginning Balance  Payment  Principal  Interest  Ending Balance\n",
       "Payment Date                                                                 \n",
       "2017-03-16            800000.00   1398.3     726.61    671.69       799272.90\n",
       "2017-03-30            799272.90   1398.3     727.22    671.08       798545.69\n",
       "2017-04-13            798545.69   1398.3     727.83    670.47       797817.86\n",
       "2017-04-27            797817.86   1398.3     728.44    669.86       797089.42\n",
       "2017-05-11            797089.42   1398.3     729.05    669.25       796360.37"
      ]
     },
     "execution_count": 10,
     "metadata": {},
     "output_type": "execute_result"
    }
   ],
   "source": [
    "amort_df.head(5)"
   ]
  },
  {
   "cell_type": "markdown",
   "metadata": {},
   "source": [
    "# Time for some data analysis\n",
    "\n",
    "<br>\n",
    "**What is the last payment date for the mortgage?**<br>\n",
    "This is easily answered by looking at the last row of the DataFrame."
   ]
  },
  {
   "cell_type": "code",
   "execution_count": 11,
   "metadata": {
    "scrolled": true
   },
   "outputs": [
    {
     "data": {
      "text/html": [
       "<div>\n",
       "<style>\n",
       "    .dataframe thead tr:only-child th {\n",
       "        text-align: right;\n",
       "    }\n",
       "\n",
       "    .dataframe thead th {\n",
       "        text-align: left;\n",
       "    }\n",
       "\n",
       "    .dataframe tbody tr th {\n",
       "        vertical-align: top;\n",
       "    }\n",
       "</style>\n",
       "<table border=\"1\" class=\"dataframe\">\n",
       "  <thead>\n",
       "    <tr style=\"text-align: right;\">\n",
       "      <th></th>\n",
       "      <th>Beginning Balance</th>\n",
       "      <th>Payment</th>\n",
       "      <th>Principal</th>\n",
       "      <th>Interest</th>\n",
       "      <th>Ending Balance</th>\n",
       "    </tr>\n",
       "    <tr>\n",
       "      <th>Payment Date</th>\n",
       "      <th></th>\n",
       "      <th></th>\n",
       "      <th></th>\n",
       "      <th></th>\n",
       "      <th></th>\n",
       "    </tr>\n",
       "  </thead>\n",
       "  <tbody>\n",
       "    <tr>\n",
       "      <th>2047-01-24</th>\n",
       "      <td>1397.13</td>\n",
       "      <td>1398.3</td>\n",
       "      <td>1397.13</td>\n",
       "      <td>1.17</td>\n",
       "      <td>-0.0</td>\n",
       "    </tr>\n",
       "  </tbody>\n",
       "</table>\n",
       "</div>"
      ],
      "text/plain": [
       "              Beginning Balance  Payment  Principal  Interest  Ending Balance\n",
       "Payment Date                                                                 \n",
       "2047-01-24              1397.13   1398.3    1397.13      1.17            -0.0"
      ]
     },
     "execution_count": 11,
     "metadata": {},
     "output_type": "execute_result"
    }
   ],
   "source": [
    "amort_df.tail(1)"
   ]
  },
  {
   "cell_type": "markdown",
   "metadata": {},
   "source": [
    "As shown above, the last payment of $1398.3 is scheduled for **Jan. 24, 2047**.<br>\n",
    "\n",
    "**What is the total interest payment over the life of the loan?**"
   ]
  },
  {
   "cell_type": "code",
   "execution_count": 12,
   "metadata": {},
   "outputs": [
    {
     "data": {
      "text/plain": [
       "'Total interest payment over the life of the loan is 290674.'"
      ]
     },
     "execution_count": 12,
     "metadata": {},
     "output_type": "execute_result"
    }
   ],
   "source": [
    "'Total interest payment over the life of the loan is {0}.'.format(int(amort_df.sum()['Interest']))"
   ]
  },
  {
   "cell_type": "markdown",
   "metadata": {},
   "source": [
    "**What are the total principal and interest payments per year?**"
   ]
  },
  {
   "cell_type": "code",
   "execution_count": 13,
   "metadata": {},
   "outputs": [
    {
     "data": {
      "text/html": [
       "<div>\n",
       "<style>\n",
       "    .dataframe thead tr:only-child th {\n",
       "        text-align: right;\n",
       "    }\n",
       "\n",
       "    .dataframe thead th {\n",
       "        text-align: left;\n",
       "    }\n",
       "\n",
       "    .dataframe tbody tr th {\n",
       "        vertical-align: top;\n",
       "    }\n",
       "</style>\n",
       "<table border=\"1\" class=\"dataframe\">\n",
       "  <thead>\n",
       "    <tr style=\"text-align: right;\">\n",
       "      <th></th>\n",
       "      <th>Principal</th>\n",
       "      <th>Interest</th>\n",
       "    </tr>\n",
       "    <tr>\n",
       "      <th>Payment Date</th>\n",
       "      <th></th>\n",
       "      <th></th>\n",
       "    </tr>\n",
       "  </thead>\n",
       "  <tbody>\n",
       "    <tr>\n",
       "      <th>2017</th>\n",
       "      <td>15387.58</td>\n",
       "      <td>13976.72</td>\n",
       "    </tr>\n",
       "    <tr>\n",
       "      <th>2018</th>\n",
       "      <td>19430.92</td>\n",
       "      <td>16924.94</td>\n",
       "    </tr>\n",
       "    <tr>\n",
       "      <th>2019</th>\n",
       "      <td>19859.53</td>\n",
       "      <td>16496.27</td>\n",
       "    </tr>\n",
       "    <tr>\n",
       "      <th>2020</th>\n",
       "      <td>21087.22</td>\n",
       "      <td>16666.91</td>\n",
       "    </tr>\n",
       "    <tr>\n",
       "      <th>2021</th>\n",
       "      <td>20762.86</td>\n",
       "      <td>15592.98</td>\n",
       "    </tr>\n",
       "  </tbody>\n",
       "</table>\n",
       "</div>"
      ],
      "text/plain": [
       "              Principal  Interest\n",
       "Payment Date                     \n",
       "2017           15387.58  13976.72\n",
       "2018           19430.92  16924.94\n",
       "2019           19859.53  16496.27\n",
       "2020           21087.22  16666.91\n",
       "2021           20762.86  15592.98"
      ]
     },
     "execution_count": 13,
     "metadata": {},
     "output_type": "execute_result"
    }
   ],
   "source": [
    "amort_df.groupby(by=amort_df.index.year).sum()[['Principal', 'Interest']].head(5)"
   ]
  },
  {
   "cell_type": "markdown",
   "metadata": {},
   "source": [
    "**In which months of a year will the borrower make 3, instead of 2, payments?**<br>\n",
    "Since there are 26 payments made in a year, there will be 2 months every year where the borrower will have to make 3--instead of 2--payments. These months can be found as:<br>"
   ]
  },
  {
   "cell_type": "code",
   "execution_count": 14,
   "metadata": {
    "scrolled": true
   },
   "outputs": [
    {
     "data": {
      "text/plain": [
       "Payment Date  Payment Date\n",
       "2017          8               3\n",
       "2018          3               3\n",
       "              8               3\n",
       "2019          1               3\n",
       "              8               3\n",
       "2020          1               3\n",
       "              7               3\n",
       "              12              3\n",
       "2021          7               3\n",
       "              12              3\n",
       "2022          6               3\n",
       "              12              3\n",
       "2023          6               3\n",
       "              11              3\n",
       "2024          5               3\n",
       "              10              3\n",
       "2025          5               3\n",
       "              10              3\n",
       "2026          4               3\n",
       "              10              3\n",
       "2027          4               3\n",
       "              9               3\n",
       "2028          3               3\n",
       "              8               3\n",
       "2029          3               3\n",
       "              8               3\n",
       "2030          1               3\n",
       "              8               3\n",
       "2031          1               3\n",
       "              7               3\n",
       "                             ..\n",
       "2032          12              3\n",
       "2033          6               3\n",
       "              12              3\n",
       "2034          6               3\n",
       "              11              3\n",
       "2035          5               3\n",
       "              11              3\n",
       "2036          5               3\n",
       "              10              3\n",
       "2037          4               3\n",
       "              10              3\n",
       "2038          4               3\n",
       "              9               3\n",
       "2039          3               3\n",
       "              9               3\n",
       "2040          3               3\n",
       "              8               3\n",
       "2041          1               3\n",
       "              8               3\n",
       "2042          1               3\n",
       "              7               3\n",
       "2043          1               3\n",
       "              7               3\n",
       "              12              3\n",
       "2044          6               3\n",
       "              12              3\n",
       "2045          6               3\n",
       "              11              3\n",
       "2046          5               3\n",
       "              11              3\n",
       "Name: Payment, Length: 62, dtype: int64"
      ]
     },
     "execution_count": 14,
     "metadata": {},
     "output_type": "execute_result"
    }
   ],
   "source": [
    "new_df = amort_df.groupby(by=[amort_df.index.year, amort_df.index.month]).count()['Payment']\n",
    "new_df[new_df==3]"
   ]
  },
  {
   "cell_type": "markdown",
   "metadata": {},
   "source": [
    "The output shows that, in 2023, the borrower will make 3 payments each in months 6 (June) and 11 (November).<br>\n",
    "\n",
    "**We know that the balance of the loan gradually declines until it reaches zero at maturity. Let’s see a graphical representation of this decline.**"
   ]
  },
  {
   "cell_type": "code",
   "execution_count": 15,
   "metadata": {},
   "outputs": [
    {
     "data": {
      "text/plain": [
       "<matplotlib.legend.Legend at 0x19b01c3e898>"
      ]
     },
     "execution_count": 15,
     "metadata": {},
     "output_type": "execute_result"
    },
    {
     "data": {
      "image/png": "[encoded data removed]",
      "text/plain": [
       "<matplotlib.figure.Figure at 0x19b01c3eac8>"
      ]
     },
     "metadata": {},
     "output_type": "display_data"
    }
   ],
   "source": [
    "amort_df.plot(y='Ending Balance', grid=True, figsize=(30,10)).legend(loc=1, prop={'size':20})"
   ]
  },
  {
   "cell_type": "markdown",
   "metadata": {},
   "source": [
    "<br>\n",
    "**We know that the bi-weekly payment comprises an interest component and a  principal repayment component, and that, over the life of the loan, the former decreases while the latter increases. Let’s see if our amortisation schedule validates this understanding.**"
   ]
  },
  {
   "cell_type": "code",
   "execution_count": 16,
   "metadata": {},
   "outputs": [],
   "source": [
    "annual_df = amort_df.groupby(by=amort_df.index.year).last()"
   ]
  },
  {
   "cell_type": "code",
   "execution_count": 17,
   "metadata": {},
   "outputs": [
    {
     "data": {
      "text/plain": [
       "<matplotlib.legend.Legend at 0x19b01c5ac50>"
      ]
     },
     "execution_count": 17,
     "metadata": {},
     "output_type": "execute_result"
    },
    {
     "data": {
      "image/png": "[encoded data removed]",
      "text/plain": [
       "<matplotlib.figure.Figure at 0x19b01c5ad68>"
      ]
     },
     "metadata": {},
     "output_type": "display_data"
    }
   ],
   "source": [
    "annual_df.plot(y=['Principal', 'Interest'],\n",
    "               kind='bar',\n",
    "               stacked=True,\n",
    "               figsize=(30, 20), fontsize=20).legend(loc=2, prop={'size':20})"
   ]
  },
  {
   "cell_type": "markdown",
   "metadata": {},
   "source": [
    "<br>**Indeed, the interest component (orange) decreases while the principal component (blue) increases as we approach loan maturity.**"
   ]
  }
 ],
 "metadata": {
  "kernelspec": {
   "display_name": "Python 3",
   "language": "python",
   "name": "python3"
  },
  "language_info": {
   "codemirror_mode": {
    "name": "ipython",
    "version": 3
   },
   "file_extension": ".py",
   "mimetype": "text/x-python",
   "name": "python",
   "nbconvert_exporter": "python",
   "pygments_lexer": "ipython3",
   "version": "3.6.1"
  }
 },
 "nbformat": 4,
 "nbformat_minor": 2
}
