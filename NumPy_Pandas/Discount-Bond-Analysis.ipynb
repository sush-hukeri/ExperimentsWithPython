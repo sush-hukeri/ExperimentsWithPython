{
 "cells": [
  {
   "cell_type": "markdown",
   "metadata": {},
   "source": [
    "In this article, I’ll demonstrate some data analysis for bonds payable using Python *pandas*. I will focus on discount bonds in particular.<br>\n",
    "\n",
    "**What are bonds?**<br>\n",
    "Bonds are a common form of long-term debt issued by entities–-corporations, municipalities, governments, etc-–to raise money for various projects and other activities. On issuance of a bond, the investors lend cash to the borrower who then repays the former by making:\n",
    "1. periodic interest payments, and\n",
    "2. face value of the bond at maturity.\n",
    "\n",
    "The former are also known as the *bondholders* or *lenders* while the latter are also known as the *issuers.*<br>\n",
    "\n",
    "**Terms:**\n",
    "\n",
    "- **Face value or Par value:** This is the amount payable by the issuer to the bondholders on maturity of the bond.\n",
    "- **Coupon Rate:** This is the interest rate used to calculate the periodic interest payments.\n",
    "- **Market Rate:** This is the rate demanded by the bondholders given the risk-profile of the issuer. Based on market conditions, this rate varies during the life of the bond.\n",
    "- **Effective Interest Rate:** This is the market rate at the time of issuance of the bond.<br>\n",
    "\n",
    "**What is a discount bond?**<br>\n",
    "The bond’s coupon rate may or may not equal the effective interest rate. A *discount bond* is one where the coupon rate is lower than the effective interest rate. Therefore, the cash from the sale of the bond will be lower than the face value of the bond.\n",
    "<br>\n",
    "\n",
    "Let’s begin our example:\n",
    "\n",
    "*Company X* issues \\$1,000,000 face value of 5 percent five-year bonds, dated 1 January 2017, when the market interest rate is 6 percent. The sales proceeds are \\$957,876. The bonds pay 5 percent interest annually on 31 December.\n",
    "\n",
    "Here’re our inputs:\n",
    "<br>\n",
    "- Face Value = \\$1,000,000\n",
    "- Maturity = 5 years\n",
    "- Coupon Rate = 5%\n",
    "- Effective Interest Rate = 6%\n",
    "- Number of payments per year = 1\n",
    "- Cash to issuer = \\$957,876\n",
    "<br><br>\n",
    "\n",
    "Based on the information given:\n",
    "\n",
    "Since the cash received by the issuer is lesser than the face value, this is a discount bond.<br>\n",
    "The interest payment will be \\$50,000 (= 5% of \\$1,000,000)<br>\n",
    "Total number of payments: 5  (= 1 payment per year over the 5-year life of the bond)<br>"
   ]
  },
  {
   "cell_type": "code",
   "execution_count": 1,
   "metadata": {
    "collapsed": true
   },
   "outputs": [],
   "source": [
    "import pandas as pd\n",
    "%matplotlib inline"
   ]
  },
  {
   "cell_type": "code",
   "execution_count": 2,
   "metadata": {
    "collapsed": true
   },
   "outputs": [],
   "source": [
    "face_value = 1000000\n",
    "years_to_maturity = 5\n",
    "num_payments = 5\n",
    "market_rate = 0.06\n",
    "coupon_rate = 0.05\n",
    "sales_proceeds = 957876"
   ]
  },
  {
   "cell_type": "code",
   "execution_count": 3,
   "metadata": {},
   "outputs": [
    {
     "data": {
      "text/plain": [
       "50000.0"
      ]
     },
     "execution_count": 3,
     "metadata": {},
     "output_type": "execute_result"
    }
   ],
   "source": [
    "interest_payment = face_value * coupon_rate\n",
    "interest_payment"
   ]
  },
  {
   "cell_type": "code",
   "execution_count": 4,
   "metadata": {},
   "outputs": [
    {
     "data": {
      "text/plain": [
       "DatetimeIndex(['2017-12-31', '2018-12-31', '2019-12-31', '2020-12-31',\n",
       "               '2021-12-31'],\n",
       "              dtype='datetime64[ns]', freq='A-DEC')"
      ]
     },
     "execution_count": 4,
     "metadata": {},
     "output_type": "execute_result"
    }
   ],
   "source": [
    "date_range = pd.date_range('20170101', periods=num_payments, freq='A')\n",
    "date_range"
   ]
  },
  {
   "cell_type": "code",
   "execution_count": 5,
   "metadata": {
    "collapsed": true
   },
   "outputs": [],
   "source": [
    "def record_generator(sales_proceeds, num_payments, interest_payment, market_rate):\n",
    "    ending_carrying_value = sales_proceeds    \n",
    "    for i in range(num_payments):\n",
    "        beginning_carrying_value = ending_carrying_value\n",
    "        interest_expense = beginning_carrying_value * market_rate\n",
    "        discount_amortization = interest_expense - interest_payment\n",
    "        ending_carrying_value += discount_amortization\n",
    "        yield((beginning_carrying_value,\n",
    "               interest_expense,\n",
    "               interest_payment,\n",
    "               discount_amortization,\n",
    "               ending_carrying_value)\n",
    "              )"
   ]
  },
  {
   "cell_type": "code",
   "execution_count": 6,
   "metadata": {},
   "outputs": [
    {
     "data": {
      "text/html": [
       "<div>\n",
       "<style>\n",
       "    .dataframe thead tr:only-child th {\n",
       "        text-align: right;\n",
       "    }\n",
       "\n",
       "    .dataframe thead th {\n",
       "        text-align: left;\n",
       "    }\n",
       "\n",
       "    .dataframe tbody tr th {\n",
       "        vertical-align: top;\n",
       "    }\n",
       "</style>\n",
       "<table border=\"1\" class=\"dataframe\">\n",
       "  <thead>\n",
       "    <tr style=\"text-align: right;\">\n",
       "      <th></th>\n",
       "      <th>Beginning Carrying Value</th>\n",
       "      <th>Interest Expense</th>\n",
       "      <th>Interest Payment</th>\n",
       "      <th>Amortization of Discount</th>\n",
       "      <th>Ending Carrying Value</th>\n",
       "    </tr>\n",
       "  </thead>\n",
       "  <tbody>\n",
       "    <tr>\n",
       "      <th>2017-12-31</th>\n",
       "      <td>957876.0</td>\n",
       "      <td>57473.0</td>\n",
       "      <td>50000.0</td>\n",
       "      <td>7473.0</td>\n",
       "      <td>965349.0</td>\n",
       "    </tr>\n",
       "    <tr>\n",
       "      <th>2018-12-31</th>\n",
       "      <td>965349.0</td>\n",
       "      <td>57921.0</td>\n",
       "      <td>50000.0</td>\n",
       "      <td>7921.0</td>\n",
       "      <td>973269.0</td>\n",
       "    </tr>\n",
       "    <tr>\n",
       "      <th>2019-12-31</th>\n",
       "      <td>973269.0</td>\n",
       "      <td>58396.0</td>\n",
       "      <td>50000.0</td>\n",
       "      <td>8396.0</td>\n",
       "      <td>981666.0</td>\n",
       "    </tr>\n",
       "    <tr>\n",
       "      <th>2020-12-31</th>\n",
       "      <td>981666.0</td>\n",
       "      <td>58900.0</td>\n",
       "      <td>50000.0</td>\n",
       "      <td>8900.0</td>\n",
       "      <td>990566.0</td>\n",
       "    </tr>\n",
       "    <tr>\n",
       "      <th>2021-12-31</th>\n",
       "      <td>990566.0</td>\n",
       "      <td>59434.0</td>\n",
       "      <td>50000.0</td>\n",
       "      <td>9434.0</td>\n",
       "      <td>1000000.0</td>\n",
       "    </tr>\n",
       "  </tbody>\n",
       "</table>\n",
       "</div>"
      ],
      "text/plain": [
       "            Beginning Carrying Value  Interest Expense  Interest Payment  \\\n",
       "2017-12-31                  957876.0           57473.0           50000.0   \n",
       "2018-12-31                  965349.0           57921.0           50000.0   \n",
       "2019-12-31                  973269.0           58396.0           50000.0   \n",
       "2020-12-31                  981666.0           58900.0           50000.0   \n",
       "2021-12-31                  990566.0           59434.0           50000.0   \n",
       "\n",
       "            Amortization of Discount  Ending Carrying Value  \n",
       "2017-12-31                    7473.0               965349.0  \n",
       "2018-12-31                    7921.0               973269.0  \n",
       "2019-12-31                    8396.0               981666.0  \n",
       "2020-12-31                    8900.0               990566.0  \n",
       "2021-12-31                    9434.0              1000000.0  "
      ]
     },
     "execution_count": 6,
     "metadata": {},
     "output_type": "execute_result"
    }
   ],
   "source": [
    "columns = ['Beginning Carrying Value', 'Interest Expense', 'Interest Payment',\n",
    "           'Amortization of Discount', 'Ending Carrying Value']\n",
    "df = pd.DataFrame.from_records(record_generator(sales_proceeds,\n",
    "                                                 num_payments,\n",
    "                                                 interest_payment,\n",
    "                                                 market_rate),\n",
    "                                index=date_range,\n",
    "                                columns=columns).round(0)\n",
    "df"
   ]
  },
  {
   "cell_type": "markdown",
   "metadata": {},
   "source": [
    "Now, using this DataFrame, let’s try to gain some insights into this bond’s effect on Company X’s financial statements.\n",
    "<br><br>\n",
    "Analysis:\n",
    "<br><br>\n",
    "**What is the amount of the interest expense that Company X reports on its Income Statement over the life of the bond?**\n",
    "<br>\n",
    "This is answered by the Interest Expense column of the DataFrame. For instance, Company X will report \\$58,396 interest expense on December 31, 2019."
   ]
  },
  {
   "cell_type": "code",
   "execution_count": 7,
   "metadata": {},
   "outputs": [
    {
     "data": {
      "text/plain": [
       "2017-12-31    57473.0\n",
       "2018-12-31    57921.0\n",
       "2019-12-31    58396.0\n",
       "2020-12-31    58900.0\n",
       "2021-12-31    59434.0\n",
       "Freq: A-DEC, Name: Interest Expense, dtype: float64"
      ]
     },
     "execution_count": 7,
     "metadata": {},
     "output_type": "execute_result"
    }
   ],
   "source": [
    "df['Interest Expense']"
   ]
  },
  {
   "cell_type": "markdown",
   "metadata": {},
   "source": [
    "**What is the value of the Liability reported on the balance sheet?**\n",
    "<br>\n",
    "This bond will appear in the *Liabilities* section of the balance sheet as Bonds Payable. The value of this liability for each of the years is given by the *Ending Carrying Value* of the DataFrame."
   ]
  },
  {
   "cell_type": "code",
   "execution_count": 8,
   "metadata": {
    "scrolled": true
   },
   "outputs": [
    {
     "data": {
      "text/plain": [
       "2017-12-31     965349.0\n",
       "2018-12-31     973269.0\n",
       "2019-12-31     981666.0\n",
       "2020-12-31     990566.0\n",
       "2021-12-31    1000000.0\n",
       "Freq: A-DEC, Name: Ending Carrying Value, dtype: float64"
      ]
     },
     "execution_count": 8,
     "metadata": {},
     "output_type": "execute_result"
    }
   ],
   "source": [
    "df['Ending Carrying Value']"
   ]
  },
  {
   "cell_type": "markdown",
   "metadata": {},
   "source": [
    "For instance, the company will report the Bonds Payable liability as \\$965,349 and \\$990,566 at 31 December 2017 and 2020, respectively.\n",
    "<br><br>\n",
    "Also, as expected, the amount of the liability increases over the life of the bond and equals the face value on the maturity date December 31, 2021. <br><br>\n",
    "This liability will be reduced to zero when the principal payment is made. (Not shown here)"
   ]
  },
  {
   "cell_type": "code",
   "execution_count": 9,
   "metadata": {},
   "outputs": [
    {
     "data": {
      "text/html": [
       "<div>\n",
       "<style>\n",
       "    .dataframe thead tr:only-child th {\n",
       "        text-align: right;\n",
       "    }\n",
       "\n",
       "    .dataframe thead th {\n",
       "        text-align: left;\n",
       "    }\n",
       "\n",
       "    .dataframe tbody tr th {\n",
       "        vertical-align: top;\n",
       "    }\n",
       "</style>\n",
       "<table border=\"1\" class=\"dataframe\">\n",
       "  <thead>\n",
       "    <tr style=\"text-align: right;\">\n",
       "      <th></th>\n",
       "      <th>2017</th>\n",
       "      <th>2018</th>\n",
       "      <th>2019</th>\n",
       "      <th>2020</th>\n",
       "      <th>2021</th>\n",
       "    </tr>\n",
       "  </thead>\n",
       "  <tbody>\n",
       "    <tr>\n",
       "      <th>Interest Expense</th>\n",
       "      <td>57473.0</td>\n",
       "      <td>57921.0</td>\n",
       "      <td>58396.0</td>\n",
       "      <td>58900.0</td>\n",
       "      <td>59434.0</td>\n",
       "    </tr>\n",
       "  </tbody>\n",
       "</table>\n",
       "</div>"
      ],
      "text/plain": [
       "                     2017     2018     2019     2020     2021\n",
       "Interest Expense  57473.0  57921.0  58396.0  58900.0  59434.0"
      ]
     },
     "execution_count": 9,
     "metadata": {},
     "output_type": "execute_result"
    }
   ],
   "source": [
    "df.groupby(by=df.index.year).sum()['Interest Expense'].to_frame().T"
   ]
  },
  {
   "cell_type": "code",
   "execution_count": 10,
   "metadata": {},
   "outputs": [
    {
     "data": {
      "text/html": [
       "<div>\n",
       "<style>\n",
       "    .dataframe thead tr:only-child th {\n",
       "        text-align: right;\n",
       "    }\n",
       "\n",
       "    .dataframe thead th {\n",
       "        text-align: left;\n",
       "    }\n",
       "\n",
       "    .dataframe tbody tr th {\n",
       "        vertical-align: top;\n",
       "    }\n",
       "</style>\n",
       "<table border=\"1\" class=\"dataframe\">\n",
       "  <thead>\n",
       "    <tr style=\"text-align: right;\">\n",
       "      <th></th>\n",
       "      <th>2017</th>\n",
       "      <th>2018</th>\n",
       "      <th>2019</th>\n",
       "      <th>2020</th>\n",
       "      <th>2021</th>\n",
       "    </tr>\n",
       "  </thead>\n",
       "  <tbody>\n",
       "    <tr>\n",
       "      <th>Ending Carrying Value</th>\n",
       "      <td>965349.0</td>\n",
       "      <td>973269.0</td>\n",
       "      <td>981666.0</td>\n",
       "      <td>990566.0</td>\n",
       "      <td>1000000.0</td>\n",
       "    </tr>\n",
       "  </tbody>\n",
       "</table>\n",
       "</div>"
      ],
      "text/plain": [
       "                           2017      2018      2019      2020       2021\n",
       "Ending Carrying Value  965349.0  973269.0  981666.0  990566.0  1000000.0"
      ]
     },
     "execution_count": 10,
     "metadata": {},
     "output_type": "execute_result"
    }
   ],
   "source": [
    "df.groupby(by=df.index.year).sum()['Ending Carrying Value'].to_frame().T"
   ]
  },
  {
   "cell_type": "code",
   "execution_count": 11,
   "metadata": {},
   "outputs": [
    {
     "data": {
      "text/plain": [
       "<matplotlib.axes._subplots.AxesSubplot at 0x1879957f160>"
      ]
     },
     "execution_count": 11,
     "metadata": {},
     "output_type": "execute_result"
    },
    {
     "data": {
      "image/png": "[encoded data removed]",
      "text/plain": [
       "<matplotlib.figure.Figure at 0x1879952fa20>"
      ]
     },
     "metadata": {},
     "output_type": "display_data"
    }
   ],
   "source": [
    "df.plot(x=df.index, y='Amortization of Discount', xticks=df.index, grid=True, figsize=(20, 10))"
   ]
  },
  {
   "cell_type": "code",
   "execution_count": 12,
   "metadata": {},
   "outputs": [
    {
     "data": {
      "text/plain": [
       "Interest Expense    292124.0\n",
       "Interest Payment    250000.0\n",
       "dtype: float64"
      ]
     },
     "execution_count": 12,
     "metadata": {},
     "output_type": "execute_result"
    }
   ],
   "source": [
    "df.sum()[['Interest Expense', 'Interest Payment']]"
   ]
  }
 ],
 "metadata": {
  "kernelspec": {
   "display_name": "Python 3",
   "language": "python",
   "name": "python3"
  },
  "language_info": {
   "codemirror_mode": {
    "name": "ipython",
    "version": 3
   },
   "file_extension": ".py",
   "mimetype": "text/x-python",
   "name": "python",
   "nbconvert_exporter": "python",
   "pygments_lexer": "ipython3",
   "version": "3.6.1"
  }
 },
 "nbformat": 4,
 "nbformat_minor": 2
}
