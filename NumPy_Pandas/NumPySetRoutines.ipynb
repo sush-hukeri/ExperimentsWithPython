{
 "cells": [
  {
   "cell_type": "markdown",
   "metadata": {},
   "source": [
    "In this notebook, we will take a look at NumPy's Set Routines."
   ]
  },
  {
   "cell_type": "code",
   "execution_count": 1,
   "metadata": {
    "collapsed": true
   },
   "outputs": [],
   "source": [
    "import numpy as np"
   ]
  },
  {
   "cell_type": "markdown",
   "metadata": {},
   "source": [
    "Let's start by defining some sample lists."
   ]
  },
  {
   "cell_type": "code",
   "execution_count": 2,
   "metadata": {},
   "outputs": [
    {
     "data": {
      "text/plain": [
       "array([['New York', 'New Mexico'],\n",
       "       ['New Jersey', 'New Brunswick']],\n",
       "      dtype='<U13')"
      ]
     },
     "execution_count": 2,
     "metadata": {},
     "output_type": "execute_result"
    }
   ],
   "source": [
    "array_1 = np.array([['New York', 'New Mexico'], ['New Jersey', 'New Brunswick']])\n",
    "array_1"
   ]
  },
  {
   "cell_type": "code",
   "execution_count": 3,
   "metadata": {},
   "outputs": [
    {
     "data": {
      "text/plain": [
       "array([['Alabama', 'Alaska', 'Arizona', 'Arkansas', 'California'],\n",
       "       ['Colorado', 'Connecticut', 'Delaware', 'Florida', 'Georgia'],\n",
       "       ['Hawaii', 'Idaho', 'Illinois', 'Indiana', 'Iowa'],\n",
       "       ['Kansas', 'Kentucky', 'Louisiana', 'Maine', 'Maryland'],\n",
       "       ['Massachusetts', 'Michigan', 'Minnesota', 'Mississippi', 'Missouri'],\n",
       "       ['Montana', 'Nebraska', 'Nevada', 'New Hampshire', 'New Jersey'],\n",
       "       ['New Mexico', 'New York', 'North Carolina', 'North Dakota', 'Ohio'],\n",
       "       ['Oklahoma', 'Oregon', 'Pennsylvania', 'Rhode Island',\n",
       "        'South Carolina'],\n",
       "       ['South Dakota', 'Tennessee', 'Texas', 'Utah', 'Vermont'],\n",
       "       ['Virginia', 'Washington', 'West Virginia', 'Wisconsin', 'Wyoming']],\n",
       "      dtype='<U14')"
      ]
     },
     "execution_count": 3,
     "metadata": {},
     "output_type": "execute_result"
    }
   ],
   "source": [
    "list_2 = ['Alabama', 'Alaska', 'Arizona', 'Arkansas',\n",
    "               'California', 'Colorado', 'Connecticut', 'Delaware',\n",
    "               'Florida', 'Georgia', 'Hawaii', 'Idaho',\n",
    "               'Illinois', 'Indiana', 'Iowa', 'Kansas',\n",
    "               'Kentucky', 'Louisiana', 'Maine', 'Maryland',\n",
    "               'Massachusetts', 'Michigan', 'Minnesota',\n",
    "               'Mississippi', 'Missouri', 'Montana', 'Nebraska',\n",
    "               'Nevada', 'New Hampshire', 'New Jersey',\n",
    "               'New Mexico', 'New York', 'North Carolina',\n",
    "               'North Dakota', 'Ohio', 'Oklahoma',\n",
    "               'Oregon', 'Pennsylvania', 'Rhode Island',\n",
    "               'South Carolina', 'South Dakota', 'Tennessee',\n",
    "               'Texas', 'Utah', 'Vermont', 'Virginia',\n",
    "               'Washington', 'West Virginia', 'Wisconsin', 'Wyoming']\n",
    "array_2 = np.array(list_2).reshape(10, -1)\n",
    "array_2"
   ]
  },
  {
   "cell_type": "code",
   "execution_count": 4,
   "metadata": {},
   "outputs": [
    {
     "data": {
      "text/plain": [
       "((2, 2), (10, 5))"
      ]
     },
     "execution_count": 4,
     "metadata": {},
     "output_type": "execute_result"
    }
   ],
   "source": [
    "array_1.shape, array_2.shape"
   ]
  },
  {
   "cell_type": "markdown",
   "metadata": {},
   "source": [
    "Let's see which elements of array 1 are present in array 2. This is accomplished by using NumPy's **isin(ar1, ar2)** method. This returns a boolean array of the same shape as *ar1* with a boolean *True* if the element of *ar1* is in *ar2*, and boolean *False* otherwise."
   ]
  },
  {
   "cell_type": "code",
   "execution_count": 5,
   "metadata": {},
   "outputs": [
    {
     "data": {
      "text/plain": [
       "array(['New York', 'New Mexico', 'New Jersey'],\n",
       "      dtype='<U13')"
      ]
     },
     "execution_count": 5,
     "metadata": {},
     "output_type": "execute_result"
    }
   ],
   "source": [
    "mask = np.isin(array_1, array_2, assume_unique=True)\n",
    "array_1[mask]"
   ]
  },
  {
   "cell_type": "markdown",
   "metadata": {},
   "source": [
    "Invoking the same method as above with the argument **invert=True** will return an array of values in *ar1* that are not present in *ar2.*"
   ]
  },
  {
   "cell_type": "code",
   "execution_count": 6,
   "metadata": {},
   "outputs": [
    {
     "data": {
      "text/plain": [
       "array(['New Brunswick'],\n",
       "      dtype='<U13')"
      ]
     },
     "execution_count": 6,
     "metadata": {},
     "output_type": "execute_result"
    }
   ],
   "source": [
    "mask = np.isin(array_1, array_2, assume_unique=True, invert=True)\n",
    "array_1[mask]"
   ]
  },
  {
   "cell_type": "markdown",
   "metadata": {},
   "source": [
    "The same output as in the preceding case can also be obtained using NumPy's **setdiff1d(ar1, ar2)* method. This method returns the sorted, unique values in *ar1* that are not in *ar2.*"
   ]
  },
  {
   "cell_type": "code",
   "execution_count": 7,
   "metadata": {},
   "outputs": [
    {
     "data": {
      "text/plain": [
       "array(['New Brunswick'],\n",
       "      dtype='<U13')"
      ]
     },
     "execution_count": 7,
     "metadata": {},
     "output_type": "execute_result"
    }
   ],
   "source": [
    "np.setdiff1d(array_1, array_2, assume_unique=False)"
   ]
  },
  {
   "cell_type": "markdown",
   "metadata": {},
   "source": [
    "To find the common elements between two arrays, we can use the **intersect1d(ar1, ar2)** method. This returns an array of values that are present in both input arrays."
   ]
  },
  {
   "cell_type": "code",
   "execution_count": 8,
   "metadata": {},
   "outputs": [
    {
     "data": {
      "text/plain": [
       "array(['New Jersey', 'New Mexico', 'New York'],\n",
       "      dtype='<U14')"
      ]
     },
     "execution_count": 8,
     "metadata": {},
     "output_type": "execute_result"
    }
   ],
   "source": [
    "np.intersect1d(array_1, array_2)"
   ]
  }
 ],
 "metadata": {
  "kernelspec": {
   "display_name": "Python 3",
   "language": "python",
   "name": "python3"
  },
  "language_info": {
   "codemirror_mode": {
    "name": "ipython",
    "version": 3
   },
   "file_extension": ".py",
   "mimetype": "text/x-python",
   "name": "python",
   "nbconvert_exporter": "python",
   "pygments_lexer": "ipython3",
   "version": "3.6.2"
  }
 },
 "nbformat": 4,
 "nbformat_minor": 2
}
