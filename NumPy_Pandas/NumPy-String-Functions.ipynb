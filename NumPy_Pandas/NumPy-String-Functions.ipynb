{
 "cells": [
  {
   "cell_type": "markdown",
   "metadata": {},
   "source": [
    "In this notebook, we will see how to use NumPy's String functions. All these methods return copies of the original array. They do not modify the original array."
   ]
  },
  {
   "cell_type": "code",
   "execution_count": 1,
   "metadata": {
    "collapsed": true
   },
   "outputs": [],
   "source": [
    "import numpy as np"
   ]
  },
  {
   "cell_type": "markdown",
   "metadata": {},
   "source": [
    "Let's start by defining an array which we will use as our example."
   ]
  },
  {
   "cell_type": "code",
   "execution_count": 2,
   "metadata": {
    "collapsed": false
   },
   "outputs": [
    {
     "data": {
      "text/plain": [
       "array([['Alabama', 'Alaska', 'Arizona', 'Arkansas', 'California'],\n",
       "       ['Colorado', 'Connecticut', 'Delaware', 'Florida', 'Georgia'],\n",
       "       ['Hawaii', 'Idaho', 'Illinois', 'Indiana', 'Iowa'],\n",
       "       ['Kansas', 'Kentucky', 'Louisiana', 'Maine', 'Maryland'],\n",
       "       ['Massachusetts', 'Michigan', 'Minnesota', 'Mississippi', 'Missouri'],\n",
       "       ['Montana', 'Nebraska', 'Nevada', 'New Hampshire', 'New Jersey'],\n",
       "       ['New Mexico', 'New York', 'North Carolina', 'North Dakota', 'Ohio'],\n",
       "       ['Oklahoma', 'Oregon', 'Pennsylvania', 'Rhode Island',\n",
       "        'South Carolina'],\n",
       "       ['South Dakota', 'Tennessee', 'Texas', 'Utah', 'Vermont'],\n",
       "       ['Virginia', 'Washington', 'West Virginia', 'Wisconsin', 'Wyoming']], \n",
       "      dtype='|S14')"
      ]
     },
     "execution_count": 2,
     "metadata": {},
     "output_type": "execute_result"
    }
   ],
   "source": [
    "states_list = ['Alabama', 'Alaska', 'Arizona', 'Arkansas',\n",
    "               'California', 'Colorado', 'Connecticut', 'Delaware',\n",
    "               'Florida', 'Georgia', 'Hawaii', 'Idaho',\n",
    "               'Illinois', 'Indiana', 'Iowa', 'Kansas',\n",
    "               'Kentucky', 'Louisiana', 'Maine', 'Maryland',\n",
    "               'Massachusetts', 'Michigan', 'Minnesota',\n",
    "               'Mississippi', 'Missouri', 'Montana', 'Nebraska',\n",
    "               'Nevada', 'New Hampshire', 'New Jersey',\n",
    "               'New Mexico', 'New York', 'North Carolina',\n",
    "               'North Dakota', 'Ohio', 'Oklahoma',\n",
    "               'Oregon', 'Pennsylvania', 'Rhode Island',\n",
    "               'South Carolina', 'South Dakota', 'Tennessee',\n",
    "               'Texas', 'Utah', 'Vermont', 'Virginia',\n",
    "               'Washington', 'West Virginia', 'Wisconsin', 'Wyoming']\n",
    "states_array = np.array(states_list).reshape(10, -1)\n",
    "states_array"
   ]
  },
  {
   "cell_type": "code",
   "execution_count": 3,
   "metadata": {
    "collapsed": false
   },
   "outputs": [
    {
     "data": {
      "text/plain": [
       "(10L, 5L)"
      ]
     },
     "execution_count": 3,
     "metadata": {},
     "output_type": "execute_result"
    }
   ],
   "source": [
    "states_array.shape"
   ]
  },
  {
   "cell_type": "markdown",
   "metadata": {},
   "source": [
    "Our test array, thus, contains 50 elements organized in 10 rows with 5 columns in each row.\n",
    "<br><br>\n",
    "Let's start by converting all elements to lowercase. This is easily accomplished by calling the lower(a) method."
   ]
  },
  {
   "cell_type": "code",
   "execution_count": 4,
   "metadata": {
    "collapsed": false
   },
   "outputs": [
    {
     "data": {
      "text/plain": [
       "array([['alabama', 'alaska', 'arizona', 'arkansas', 'california'],\n",
       "       ['colorado', 'connecticut', 'delaware', 'florida', 'georgia'],\n",
       "       ['hawaii', 'idaho', 'illinois', 'indiana', 'iowa'],\n",
       "       ['kansas', 'kentucky', 'louisiana', 'maine', 'maryland'],\n",
       "       ['massachusetts', 'michigan', 'minnesota', 'mississippi', 'missouri'],\n",
       "       ['montana', 'nebraska', 'nevada', 'new hampshire', 'new jersey'],\n",
       "       ['new mexico', 'new york', 'north carolina', 'north dakota', 'ohio'],\n",
       "       ['oklahoma', 'oregon', 'pennsylvania', 'rhode island',\n",
       "        'south carolina'],\n",
       "       ['south dakota', 'tennessee', 'texas', 'utah', 'vermont'],\n",
       "       ['virginia', 'washington', 'west virginia', 'wisconsin', 'wyoming']], \n",
       "      dtype='|S14')"
      ]
     },
     "execution_count": 4,
     "metadata": {},
     "output_type": "execute_result"
    }
   ],
   "source": [
    "np.char.lower(states_array)"
   ]
  },
  {
   "cell_type": "markdown",
   "metadata": {},
   "source": [
    "Similarly, all elements can be converted to uppercase by calling the upper(a) method."
   ]
  },
  {
   "cell_type": "code",
   "execution_count": 5,
   "metadata": {
    "collapsed": false
   },
   "outputs": [
    {
     "data": {
      "text/plain": [
       "array([['ALABAMA', 'ALASKA', 'ARIZONA', 'ARKANSAS', 'CALIFORNIA'],\n",
       "       ['COLORADO', 'CONNECTICUT', 'DELAWARE', 'FLORIDA', 'GEORGIA'],\n",
       "       ['HAWAII', 'IDAHO', 'ILLINOIS', 'INDIANA', 'IOWA'],\n",
       "       ['KANSAS', 'KENTUCKY', 'LOUISIANA', 'MAINE', 'MARYLAND'],\n",
       "       ['MASSACHUSETTS', 'MICHIGAN', 'MINNESOTA', 'MISSISSIPPI', 'MISSOURI'],\n",
       "       ['MONTANA', 'NEBRASKA', 'NEVADA', 'NEW HAMPSHIRE', 'NEW JERSEY'],\n",
       "       ['NEW MEXICO', 'NEW YORK', 'NORTH CAROLINA', 'NORTH DAKOTA', 'OHIO'],\n",
       "       ['OKLAHOMA', 'OREGON', 'PENNSYLVANIA', 'RHODE ISLAND',\n",
       "        'SOUTH CAROLINA'],\n",
       "       ['SOUTH DAKOTA', 'TENNESSEE', 'TEXAS', 'UTAH', 'VERMONT'],\n",
       "       ['VIRGINIA', 'WASHINGTON', 'WEST VIRGINIA', 'WISCONSIN', 'WYOMING']], \n",
       "      dtype='|S14')"
      ]
     },
     "execution_count": 5,
     "metadata": {},
     "output_type": "execute_result"
    }
   ],
   "source": [
    "np.char.upper(states_array)"
   ]
  },
  {
   "cell_type": "markdown",
   "metadata": {},
   "source": [
    "Call swapcase(a) to return a new array with uppercase characters converted to lowercase and vice verse for each element of the original array."
   ]
  },
  {
   "cell_type": "code",
   "execution_count": 6,
   "metadata": {
    "collapsed": false
   },
   "outputs": [
    {
     "data": {
      "text/plain": [
       "array([['aLABAMA', 'aLASKA', 'aRIZONA', 'aRKANSAS', 'cALIFORNIA'],\n",
       "       ['cOLORADO', 'cONNECTICUT', 'dELAWARE', 'fLORIDA', 'gEORGIA'],\n",
       "       ['hAWAII', 'iDAHO', 'iLLINOIS', 'iNDIANA', 'iOWA'],\n",
       "       ['kANSAS', 'kENTUCKY', 'lOUISIANA', 'mAINE', 'mARYLAND'],\n",
       "       ['mASSACHUSETTS', 'mICHIGAN', 'mINNESOTA', 'mISSISSIPPI', 'mISSOURI'],\n",
       "       ['mONTANA', 'nEBRASKA', 'nEVADA', 'nEW hAMPSHIRE', 'nEW jERSEY'],\n",
       "       ['nEW mEXICO', 'nEW yORK', 'nORTH cAROLINA', 'nORTH dAKOTA', 'oHIO'],\n",
       "       ['oKLAHOMA', 'oREGON', 'pENNSYLVANIA', 'rHODE iSLAND',\n",
       "        'sOUTH cAROLINA'],\n",
       "       ['sOUTH dAKOTA', 'tENNESSEE', 'tEXAS', 'uTAH', 'vERMONT'],\n",
       "       ['vIRGINIA', 'wASHINGTON', 'wEST vIRGINIA', 'wISCONSIN', 'wYOMING']], \n",
       "      dtype='|S14')"
      ]
     },
     "execution_count": 6,
     "metadata": {},
     "output_type": "execute_result"
    }
   ],
   "source": [
    "np.char.swapcase(states_array)"
   ]
  },
  {
   "cell_type": "markdown",
   "metadata": {},
   "source": [
    "The capitalize(a) method returns a new array with only the first character of each element of the original array capitalized."
   ]
  },
  {
   "cell_type": "code",
   "execution_count": 7,
   "metadata": {
    "collapsed": false
   },
   "outputs": [
    {
     "data": {
      "text/plain": [
       "array([['Alabama', 'Alaska', 'Arizona', 'Arkansas', 'California'],\n",
       "       ['Colorado', 'Connecticut', 'Delaware', 'Florida', 'Georgia'],\n",
       "       ['Hawaii', 'Idaho', 'Illinois', 'Indiana', 'Iowa'],\n",
       "       ['Kansas', 'Kentucky', 'Louisiana', 'Maine', 'Maryland'],\n",
       "       ['Massachusetts', 'Michigan', 'Minnesota', 'Mississippi', 'Missouri'],\n",
       "       ['Montana', 'Nebraska', 'Nevada', 'New hampshire', 'New jersey'],\n",
       "       ['New mexico', 'New york', 'North carolina', 'North dakota', 'Ohio'],\n",
       "       ['Oklahoma', 'Oregon', 'Pennsylvania', 'Rhode island',\n",
       "        'South carolina'],\n",
       "       ['South dakota', 'Tennessee', 'Texas', 'Utah', 'Vermont'],\n",
       "       ['Virginia', 'Washington', 'West virginia', 'Wisconsin', 'Wyoming']], \n",
       "      dtype='|S14')"
      ]
     },
     "execution_count": 7,
     "metadata": {},
     "output_type": "execute_result"
    }
   ],
   "source": [
    "np.char.capitalize(states_array)"
   ]
  },
  {
   "cell_type": "markdown",
   "metadata": {},
   "source": [
    "To return fixed-width strings with each element center-aligned, call the center(a, *width, fillchar=' '*) method. Here,\n",
    "- *a* is the array,\n",
    "- *width* is the fixed-width, and\n",
    "- *fillchar* is the padding character; default is a *whitespace*\n",
    "\n",
    "For left-justified or right-justfied elements, the methods are *ljust(a, width, fillchar=' ')* and *rjust(a, width, fillchar=' ')*, respectively."
   ]
  },
  {
   "cell_type": "code",
   "execution_count": 8,
   "metadata": {
    "collapsed": false
   },
   "outputs": [
    {
     "data": {
      "text/plain": [
       "array([['****Alabama****', '*****Alaska****', '****Arizona****',\n",
       "        '****Arkansas***', '***California**'],\n",
       "       ['****Colorado***', '**Connecticut**', '****Delaware***',\n",
       "        '****Florida****', '****Georgia****'],\n",
       "       ['*****Hawaii****', '*****Idaho*****', '****Illinois***',\n",
       "        '****Indiana****', '******Iowa*****'],\n",
       "       ['*****Kansas****', '****Kentucky***', '***Louisiana***',\n",
       "        '*****Maine*****', '****Maryland***'],\n",
       "       ['*Massachusetts*', '****Michigan***', '***Minnesota***',\n",
       "        '**Mississippi**', '****Missouri***'],\n",
       "       ['****Montana****', '****Nebraska***', '*****Nevada****',\n",
       "        '*New Hampshire*', '***New Jersey**'],\n",
       "       ['***New Mexico**', '****New York***', '*North Carolina',\n",
       "        '**North Dakota*', '******Ohio*****'],\n",
       "       ['****Oklahoma***', '*****Oregon****', '**Pennsylvania*',\n",
       "        '**Rhode Island*', '*South Carolina'],\n",
       "       ['**South Dakota*', '***Tennessee***', '*****Texas*****',\n",
       "        '******Utah*****', '****Vermont****'],\n",
       "       ['****Virginia***', '***Washington**', '*West Virginia*',\n",
       "        '***Wisconsin***', '****Wyoming****']], \n",
       "      dtype='|S15')"
      ]
     },
     "execution_count": 8,
     "metadata": {},
     "output_type": "execute_result"
    }
   ],
   "source": [
    "np.char.center(states_array, 15, '*')"
   ]
  },
  {
   "cell_type": "markdown",
   "metadata": {},
   "source": [
    "To replace all occurrences of a substring with a new substring, call the *replace(a, old, new)* method."
   ]
  },
  {
   "cell_type": "code",
   "execution_count": 9,
   "metadata": {
    "collapsed": false
   },
   "outputs": [
    {
     "data": {
      "text/plain": [
       "array([['Alabama', 'Alaska', 'Arizona', 'Arkansas', 'California'],\n",
       "       ['Colorado', 'Connecticut', 'Delaware', 'Florida', 'Georgia'],\n",
       "       ['Hawaii', 'Idaho', 'Illinois', 'Indiana', 'Iowa'],\n",
       "       ['Kansas', 'Kentucky', 'Louisiana', 'Maine', 'Maryland'],\n",
       "       ['Massachusetts', 'Michigan', 'Minnesota', 'Mississippi', 'Missouri'],\n",
       "       ['Montana', 'Nebraska', 'Nevada', 'New_Hampshire', 'New_Jersey'],\n",
       "       ['New_Mexico', 'New_York', 'North_Carolina', 'North_Dakota', 'Ohio'],\n",
       "       ['Oklahoma', 'Oregon', 'Pennsylvania', 'Rhode_Island',\n",
       "        'South_Carolina'],\n",
       "       ['South_Dakota', 'Tennessee', 'Texas', 'Utah', 'Vermont'],\n",
       "       ['Virginia', 'Washington', 'West_Virginia', 'Wisconsin', 'Wyoming']], \n",
       "      dtype='|S14')"
      ]
     },
     "execution_count": 9,
     "metadata": {},
     "output_type": "execute_result"
    }
   ],
   "source": [
    "np.char.replace(states_array, ' ', '_')"
   ]
  },
  {
   "cell_type": "markdown",
   "metadata": {},
   "source": [
    "To return all elements that start with a prefix, call the *startswith(a, prefix)* method.\n",
    "<br><br>\n",
    "For example, to find all elements that begin with *\"New\"*, use:"
   ]
  },
  {
   "cell_type": "code",
   "execution_count": 10,
   "metadata": {
    "collapsed": false
   },
   "outputs": [
    {
     "data": {
      "text/plain": [
       "array(['New Hampshire', 'New Jersey', 'New Mexico', 'New York'], \n",
       "      dtype='|S14')"
      ]
     },
     "execution_count": 10,
     "metadata": {},
     "output_type": "execute_result"
    }
   ],
   "source": [
    "states_array[np.char.startswith(states_array, 'New')]"
   ]
  },
  {
   "cell_type": "markdown",
   "metadata": {},
   "source": [
    "Let's find the elements that aren't completely alphabetic. For our sample array, we expect to get the elements that contain a whitespace."
   ]
  },
  {
   "cell_type": "code",
   "execution_count": 11,
   "metadata": {
    "collapsed": false
   },
   "outputs": [
    {
     "data": {
      "text/plain": [
       "array(['New Hampshire', 'New Jersey', 'New Mexico', 'New York',\n",
       "       'North Carolina', 'North Dakota', 'Rhode Island', 'South Carolina',\n",
       "       'South Dakota', 'West Virginia'], \n",
       "      dtype='|S14')"
      ]
     },
     "execution_count": 11,
     "metadata": {},
     "output_type": "execute_result"
    }
   ],
   "source": [
    "states_array[~np.char.isalpha(states_array)]"
   ]
  },
  {
   "cell_type": "markdown",
   "metadata": {},
   "source": [
    "To find the occurrence of a substring, we can use the *find(array, sub)* method. This will return the lowest index in the string where the substring *sub* is found; will return -1 otherwise.<br>\n",
    "For example, let's find elements in our sample array which contain the word *Carolina.*"
   ]
  },
  {
   "cell_type": "code",
   "execution_count": 12,
   "metadata": {
    "collapsed": false
   },
   "outputs": [
    {
     "data": {
      "text/plain": [
       "array(['North Carolina', 'South Carolina'], \n",
       "      dtype='|S14')"
      ]
     },
     "execution_count": 12,
     "metadata": {},
     "output_type": "execute_result"
    }
   ],
   "source": [
    "states_array[np.char.find(states_array, 'Carolina') > -1]"
   ]
  }
 ],
 "metadata": {
  "kernelspec": {
   "display_name": "Python 2",
   "language": "python",
   "name": "python2"
  },
  "language_info": {
   "codemirror_mode": {
    "name": "ipython",
    "version": 2.0
   },
   "file_extension": ".py",
   "mimetype": "text/x-python",
   "name": "python",
   "nbconvert_exporter": "python",
   "pygments_lexer": "ipython2",
   "version": "2.7.13"
  }
 },
 "nbformat": 4,
 "nbformat_minor": 0
}