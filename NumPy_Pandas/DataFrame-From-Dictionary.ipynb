{
 "cells": [
  {
   "cell_type": "markdown",
   "metadata": {},
   "source": [
    "Here, we'll see how to convert a dictionary into a Pandas DataFrame using the *from_dict()* method. The dictionary to be converted to a DataFrame is passed as an argument to this method.\n",
    "\n",
    "In addition to the dictionary, the method takes an argument called *orient* which determines how the data in the resultant DataFrame will be oriented. This argument takes one of two values, *columns* or *index* with *columns* being the default.\n",
    "\n",
    "If the keys of the dictionary should be the columns of the resulting DataFrame, pass *orient='columns'*. If, however, the keys should be the rows(or index), pass *orient='index'*. "
   ]
  },
  {
   "cell_type": "code",
   "execution_count": 1,
   "metadata": {},
   "outputs": [
    {
     "data": {
      "text/plain": [
       "'0.20.2'"
      ]
     },
     "execution_count": 1,
     "metadata": {},
     "output_type": "execute_result"
    }
   ],
   "source": [
    "import pandas as pd\n",
    "pd.__version__"
   ]
  },
  {
   "cell_type": "code",
   "execution_count": 2,
   "metadata": {
    "collapsed": true
   },
   "outputs": [],
   "source": [
    "test_dict = {'Ticker Symbol': ['MMM', 'ABT', 'ABBV', 'ACN', 'ATVI'],\n",
    "             'Security': ['3M Company', 'Abbott Laboratories', 'AbbVie Inc.', 'Accenture plc', 'Activision Blizzard'],\n",
    "             'GICS Sector': ['Industrials', 'Health Care', 'Health Care', 'Information Technology', 'Information Technology'],\n",
    "             'GICS Sub Industry': ['Industrial Conglomerates', 'Health Care Equipment', 'Pharmaceuticals',\n",
    "                                  'IT Consulting & Other Services', 'Home Entertainment Software']}"
   ]
  },
  {
   "cell_type": "markdown",
   "metadata": {},
   "source": [
    "**Let's convert this dictionary to a DataFrame using *orient='columns'* **"
   ]
  },
  {
   "cell_type": "code",
   "execution_count": 3,
   "metadata": {},
   "outputs": [
    {
     "data": {
      "text/html": [
       "<div>\n",
       "<style>\n",
       "    .dataframe thead tr:only-child th {\n",
       "        text-align: right;\n",
       "    }\n",
       "\n",
       "    .dataframe thead th {\n",
       "        text-align: left;\n",
       "    }\n",
       "\n",
       "    .dataframe tbody tr th {\n",
       "        vertical-align: top;\n",
       "    }\n",
       "</style>\n",
       "<table border=\"1\" class=\"dataframe\">\n",
       "  <thead>\n",
       "    <tr style=\"text-align: right;\">\n",
       "      <th></th>\n",
       "      <th>GICS Sector</th>\n",
       "      <th>GICS Sub Industry</th>\n",
       "      <th>Security</th>\n",
       "      <th>Ticker Symbol</th>\n",
       "    </tr>\n",
       "  </thead>\n",
       "  <tbody>\n",
       "    <tr>\n",
       "      <th>0</th>\n",
       "      <td>Industrials</td>\n",
       "      <td>Industrial Conglomerates</td>\n",
       "      <td>3M Company</td>\n",
       "      <td>MMM</td>\n",
       "    </tr>\n",
       "    <tr>\n",
       "      <th>1</th>\n",
       "      <td>Health Care</td>\n",
       "      <td>Health Care Equipment</td>\n",
       "      <td>Abbott Laboratories</td>\n",
       "      <td>ABT</td>\n",
       "    </tr>\n",
       "    <tr>\n",
       "      <th>2</th>\n",
       "      <td>Health Care</td>\n",
       "      <td>Pharmaceuticals</td>\n",
       "      <td>AbbVie Inc.</td>\n",
       "      <td>ABBV</td>\n",
       "    </tr>\n",
       "    <tr>\n",
       "      <th>3</th>\n",
       "      <td>Information Technology</td>\n",
       "      <td>IT Consulting &amp; Other Services</td>\n",
       "      <td>Accenture plc</td>\n",
       "      <td>ACN</td>\n",
       "    </tr>\n",
       "    <tr>\n",
       "      <th>4</th>\n",
       "      <td>Information Technology</td>\n",
       "      <td>Home Entertainment Software</td>\n",
       "      <td>Activision Blizzard</td>\n",
       "      <td>ATVI</td>\n",
       "    </tr>\n",
       "  </tbody>\n",
       "</table>\n",
       "</div>"
      ],
      "text/plain": [
       "              GICS Sector               GICS Sub Industry  \\\n",
       "0             Industrials        Industrial Conglomerates   \n",
       "1             Health Care           Health Care Equipment   \n",
       "2             Health Care                 Pharmaceuticals   \n",
       "3  Information Technology  IT Consulting & Other Services   \n",
       "4  Information Technology     Home Entertainment Software   \n",
       "\n",
       "              Security Ticker Symbol  \n",
       "0           3M Company           MMM  \n",
       "1  Abbott Laboratories           ABT  \n",
       "2          AbbVie Inc.          ABBV  \n",
       "3        Accenture plc           ACN  \n",
       "4  Activision Blizzard          ATVI  "
      ]
     },
     "execution_count": 3,
     "metadata": {},
     "output_type": "execute_result"
    }
   ],
   "source": [
    "col_oriented_df = pd.DataFrame.from_dict(test_dict, orient='columns')\n",
    "col_oriented_df"
   ]
  },
  {
   "cell_type": "code",
   "execution_count": 4,
   "metadata": {},
   "outputs": [
    {
     "name": "stdout",
     "output_type": "stream",
     "text": [
      "Columns: Index(['GICS Sector', 'GICS Sub Industry', 'Security', 'Ticker Symbol'], dtype='object')\n",
      "Index: RangeIndex(start=0, stop=5, step=1)\n"
     ]
    }
   ],
   "source": [
    "print('Columns: {}'.format(col_oriented_df.columns))\n",
    "print('Index: {}'.format(col_oriented_df.index))"
   ]
  },
  {
   "cell_type": "markdown",
   "metadata": {},
   "source": [
    "**Let's now convert the dictionary using *orient='index'* **"
   ]
  },
  {
   "cell_type": "code",
   "execution_count": 5,
   "metadata": {},
   "outputs": [
    {
     "data": {
      "text/html": [
       "<div>\n",
       "<style>\n",
       "    .dataframe thead tr:only-child th {\n",
       "        text-align: right;\n",
       "    }\n",
       "\n",
       "    .dataframe thead th {\n",
       "        text-align: left;\n",
       "    }\n",
       "\n",
       "    .dataframe tbody tr th {\n",
       "        vertical-align: top;\n",
       "    }\n",
       "</style>\n",
       "<table border=\"1\" class=\"dataframe\">\n",
       "  <thead>\n",
       "    <tr style=\"text-align: right;\">\n",
       "      <th></th>\n",
       "      <th>0</th>\n",
       "      <th>1</th>\n",
       "      <th>2</th>\n",
       "      <th>3</th>\n",
       "      <th>4</th>\n",
       "    </tr>\n",
       "  </thead>\n",
       "  <tbody>\n",
       "    <tr>\n",
       "      <th>Ticker Symbol</th>\n",
       "      <td>MMM</td>\n",
       "      <td>ABT</td>\n",
       "      <td>ABBV</td>\n",
       "      <td>ACN</td>\n",
       "      <td>ATVI</td>\n",
       "    </tr>\n",
       "    <tr>\n",
       "      <th>Security</th>\n",
       "      <td>3M Company</td>\n",
       "      <td>Abbott Laboratories</td>\n",
       "      <td>AbbVie Inc.</td>\n",
       "      <td>Accenture plc</td>\n",
       "      <td>Activision Blizzard</td>\n",
       "    </tr>\n",
       "    <tr>\n",
       "      <th>GICS Sector</th>\n",
       "      <td>Industrials</td>\n",
       "      <td>Health Care</td>\n",
       "      <td>Health Care</td>\n",
       "      <td>Information Technology</td>\n",
       "      <td>Information Technology</td>\n",
       "    </tr>\n",
       "    <tr>\n",
       "      <th>GICS Sub Industry</th>\n",
       "      <td>Industrial Conglomerates</td>\n",
       "      <td>Health Care Equipment</td>\n",
       "      <td>Pharmaceuticals</td>\n",
       "      <td>IT Consulting &amp; Other Services</td>\n",
       "      <td>Home Entertainment Software</td>\n",
       "    </tr>\n",
       "  </tbody>\n",
       "</table>\n",
       "</div>"
      ],
      "text/plain": [
       "                                          0                      1  \\\n",
       "Ticker Symbol                           MMM                    ABT   \n",
       "Security                         3M Company    Abbott Laboratories   \n",
       "GICS Sector                     Industrials            Health Care   \n",
       "GICS Sub Industry  Industrial Conglomerates  Health Care Equipment   \n",
       "\n",
       "                                 2                               3  \\\n",
       "Ticker Symbol                 ABBV                             ACN   \n",
       "Security               AbbVie Inc.                   Accenture plc   \n",
       "GICS Sector            Health Care          Information Technology   \n",
       "GICS Sub Industry  Pharmaceuticals  IT Consulting & Other Services   \n",
       "\n",
       "                                             4  \n",
       "Ticker Symbol                             ATVI  \n",
       "Security                   Activision Blizzard  \n",
       "GICS Sector             Information Technology  \n",
       "GICS Sub Industry  Home Entertainment Software  "
      ]
     },
     "execution_count": 5,
     "metadata": {},
     "output_type": "execute_result"
    }
   ],
   "source": [
    "index_oriented_df = pd.DataFrame.from_dict(test_dict, orient='index')\n",
    "index_oriented_df"
   ]
  },
  {
   "cell_type": "code",
   "execution_count": 6,
   "metadata": {},
   "outputs": [
    {
     "name": "stdout",
     "output_type": "stream",
     "text": [
      "Columns: RangeIndex(start=0, stop=5, step=1)\n",
      "Index: Index(['Ticker Symbol', 'Security', 'GICS Sector', 'GICS Sub Industry'], dtype='object')\n"
     ]
    }
   ],
   "source": [
    "print('Columns: {}'.format(index_oriented_df.columns))\n",
    "print('Index: {}'.format(index_oriented_df.index))"
   ]
  }
 ],
 "metadata": {
  "kernelspec": {
   "display_name": "Python 3",
   "language": "python",
   "name": "python3"
  },
  "language_info": {
   "codemirror_mode": {
    "name": "ipython",
    "version": 3
   },
   "file_extension": ".py",
   "mimetype": "text/x-python",
   "name": "python",
   "nbconvert_exporter": "python",
   "pygments_lexer": "ipython3",
   "version": "3.6.1"
  }
 },
 "nbformat": 4,
 "nbformat_minor": 2
}
