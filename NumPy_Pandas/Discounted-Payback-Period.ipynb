{
 "cells": [
  {
   "cell_type": "markdown",
   "metadata": {},
   "source": [
    "The **discounted payback period** is one of several capital budgeting methods used to evaluate capital investments. It gives the number of years required to recover the original investment in a project. The discounted payback period method takes into account the *time value of money* by discounting the future cash flows at a desired rate of return.\n",
    "\n",
    "Let us see how we can calculate the discounted payback period of a project using NumPy and Pandas.\n",
    "\n",
    "Consider a project with an initial outlay of \\$750 million with expected cash inflows of \\$175 million per year for seven years. The investor, desiring a 10% rate of return, is interested in knowing the number of years it will take to recover his/her original investment of \\$750 million."
   ]
  },
  {
   "cell_type": "code",
   "execution_count": 1,
   "metadata": {
    "collapsed": true
   },
   "outputs": [],
   "source": [
    "import numpy as np\n",
    "from pandas import Series, DataFrame"
   ]
  },
  {
   "cell_type": "markdown",
   "metadata": {},
   "source": [
    "Let's create a variable for the 10% rate of return and a list for the \\$750 million cash outflow followed by seven $175 million cash inflows. For convenience, the outflow and inflows are marked as negative and positive, respectively."
   ]
  },
  {
   "cell_type": "code",
   "execution_count": 2,
   "metadata": {},
   "outputs": [
    {
     "data": {
      "text/plain": [
       "(0.1, [-750, 175, 175, 175, 175, 175, 175, 175])"
      ]
     },
     "execution_count": 2,
     "metadata": {},
     "output_type": "execute_result"
    }
   ],
   "source": [
    "# Desired rate of return is 10%\n",
    "rate = 10 / 100\n",
    "\n",
    "# Amounts in millions\n",
    "cash_flows = [-750] + [175] * 7\n",
    "rate, cash_flows"
   ]
  },
  {
   "cell_type": "markdown",
   "metadata": {},
   "source": [
    "Convert the cash flows array to a DataFrame. Since the cash flows are undiscounted, let’s name the column *UndiscountedCashFlows*"
   ]
  },
  {
   "cell_type": "code",
   "execution_count": 3,
   "metadata": {},
   "outputs": [
    {
     "data": {
      "text/html": [
       "<div>\n",
       "<style>\n",
       "    .dataframe thead tr:only-child th {\n",
       "        text-align: right;\n",
       "    }\n",
       "\n",
       "    .dataframe thead th {\n",
       "        text-align: left;\n",
       "    }\n",
       "\n",
       "    .dataframe tbody tr th {\n",
       "        vertical-align: top;\n",
       "    }\n",
       "</style>\n",
       "<table border=\"1\" class=\"dataframe\">\n",
       "  <thead>\n",
       "    <tr style=\"text-align: right;\">\n",
       "      <th></th>\n",
       "      <th>UndiscountedCashFlows</th>\n",
       "    </tr>\n",
       "    <tr>\n",
       "      <th>Year</th>\n",
       "      <th></th>\n",
       "    </tr>\n",
       "  </thead>\n",
       "  <tbody>\n",
       "    <tr>\n",
       "      <th>0</th>\n",
       "      <td>-750</td>\n",
       "    </tr>\n",
       "    <tr>\n",
       "      <th>1</th>\n",
       "      <td>175</td>\n",
       "    </tr>\n",
       "    <tr>\n",
       "      <th>2</th>\n",
       "      <td>175</td>\n",
       "    </tr>\n",
       "    <tr>\n",
       "      <th>3</th>\n",
       "      <td>175</td>\n",
       "    </tr>\n",
       "    <tr>\n",
       "      <th>4</th>\n",
       "      <td>175</td>\n",
       "    </tr>\n",
       "    <tr>\n",
       "      <th>5</th>\n",
       "      <td>175</td>\n",
       "    </tr>\n",
       "    <tr>\n",
       "      <th>6</th>\n",
       "      <td>175</td>\n",
       "    </tr>\n",
       "    <tr>\n",
       "      <th>7</th>\n",
       "      <td>175</td>\n",
       "    </tr>\n",
       "  </tbody>\n",
       "</table>\n",
       "</div>"
      ],
      "text/plain": [
       "      UndiscountedCashFlows\n",
       "Year                       \n",
       "0                      -750\n",
       "1                       175\n",
       "2                       175\n",
       "3                       175\n",
       "4                       175\n",
       "5                       175\n",
       "6                       175\n",
       "7                       175"
      ]
     },
     "execution_count": 3,
     "metadata": {},
     "output_type": "execute_result"
    }
   ],
   "source": [
    "cf_df = DataFrame(cash_flows, columns=['UndiscountedCashFlows'])\n",
    "cf_df.index.name = 'Year'\n",
    "cf_df"
   ]
  },
  {
   "cell_type": "markdown",
   "metadata": {},
   "source": [
    "Now, let’s calculate the present values of each of the future cash flows using numpy’s *npv()* method. Add these values as a new column *DiscountedCashFlows* to the DataFrame."
   ]
  },
  {
   "cell_type": "code",
   "execution_count": 4,
   "metadata": {},
   "outputs": [
    {
     "data": {
      "text/html": [
       "<div>\n",
       "<style>\n",
       "    .dataframe thead tr:only-child th {\n",
       "        text-align: right;\n",
       "    }\n",
       "\n",
       "    .dataframe thead th {\n",
       "        text-align: left;\n",
       "    }\n",
       "\n",
       "    .dataframe tbody tr th {\n",
       "        vertical-align: top;\n",
       "    }\n",
       "</style>\n",
       "<table border=\"1\" class=\"dataframe\">\n",
       "  <thead>\n",
       "    <tr style=\"text-align: right;\">\n",
       "      <th></th>\n",
       "      <th>UndiscountedCashFlows</th>\n",
       "      <th>DiscountedCashFlows</th>\n",
       "    </tr>\n",
       "    <tr>\n",
       "      <th>Year</th>\n",
       "      <th></th>\n",
       "      <th></th>\n",
       "    </tr>\n",
       "  </thead>\n",
       "  <tbody>\n",
       "    <tr>\n",
       "      <th>0</th>\n",
       "      <td>-750</td>\n",
       "      <td>-750.000000</td>\n",
       "    </tr>\n",
       "    <tr>\n",
       "      <th>1</th>\n",
       "      <td>175</td>\n",
       "      <td>159.090909</td>\n",
       "    </tr>\n",
       "    <tr>\n",
       "      <th>2</th>\n",
       "      <td>175</td>\n",
       "      <td>144.628099</td>\n",
       "    </tr>\n",
       "    <tr>\n",
       "      <th>3</th>\n",
       "      <td>175</td>\n",
       "      <td>131.480090</td>\n",
       "    </tr>\n",
       "    <tr>\n",
       "      <th>4</th>\n",
       "      <td>175</td>\n",
       "      <td>119.527355</td>\n",
       "    </tr>\n",
       "    <tr>\n",
       "      <th>5</th>\n",
       "      <td>175</td>\n",
       "      <td>108.661232</td>\n",
       "    </tr>\n",
       "    <tr>\n",
       "      <th>6</th>\n",
       "      <td>175</td>\n",
       "      <td>98.782938</td>\n",
       "    </tr>\n",
       "    <tr>\n",
       "      <th>7</th>\n",
       "      <td>175</td>\n",
       "      <td>89.802671</td>\n",
       "    </tr>\n",
       "  </tbody>\n",
       "</table>\n",
       "</div>"
      ],
      "text/plain": [
       "      UndiscountedCashFlows  DiscountedCashFlows\n",
       "Year                                            \n",
       "0                      -750          -750.000000\n",
       "1                       175           159.090909\n",
       "2                       175           144.628099\n",
       "3                       175           131.480090\n",
       "4                       175           119.527355\n",
       "5                       175           108.661232\n",
       "6                       175            98.782938\n",
       "7                       175            89.802671"
      ]
     },
     "execution_count": 4,
     "metadata": {},
     "output_type": "execute_result"
    }
   ],
   "source": [
    "cf_df['DiscountedCashFlows'] = np.pv(rate=rate, pmt=0, nper=cf_df.index, fv=-cf_df['UndiscountedCashFlows'])\n",
    "cf_df"
   ]
  },
  {
   "cell_type": "markdown",
   "metadata": {},
   "source": [
    "We need to know the cumulative sum of the discounted cash flows to calculate the payback period. Let’s add another column *CumulativeDiscountedCashFlows* to the DataFrame to store this cumulative sum."
   ]
  },
  {
   "cell_type": "code",
   "execution_count": 5,
   "metadata": {},
   "outputs": [
    {
     "data": {
      "text/html": [
       "<div>\n",
       "<style>\n",
       "    .dataframe thead tr:only-child th {\n",
       "        text-align: right;\n",
       "    }\n",
       "\n",
       "    .dataframe thead th {\n",
       "        text-align: left;\n",
       "    }\n",
       "\n",
       "    .dataframe tbody tr th {\n",
       "        vertical-align: top;\n",
       "    }\n",
       "</style>\n",
       "<table border=\"1\" class=\"dataframe\">\n",
       "  <thead>\n",
       "    <tr style=\"text-align: right;\">\n",
       "      <th></th>\n",
       "      <th>UndiscountedCashFlows</th>\n",
       "      <th>DiscountedCashFlows</th>\n",
       "      <th>CumulativeDiscountedCashFlows</th>\n",
       "    </tr>\n",
       "    <tr>\n",
       "      <th>Year</th>\n",
       "      <th></th>\n",
       "      <th></th>\n",
       "      <th></th>\n",
       "    </tr>\n",
       "  </thead>\n",
       "  <tbody>\n",
       "    <tr>\n",
       "      <th>0</th>\n",
       "      <td>-750</td>\n",
       "      <td>-750.000000</td>\n",
       "      <td>-750.000000</td>\n",
       "    </tr>\n",
       "    <tr>\n",
       "      <th>1</th>\n",
       "      <td>175</td>\n",
       "      <td>159.090909</td>\n",
       "      <td>-590.909091</td>\n",
       "    </tr>\n",
       "    <tr>\n",
       "      <th>2</th>\n",
       "      <td>175</td>\n",
       "      <td>144.628099</td>\n",
       "      <td>-446.280992</td>\n",
       "    </tr>\n",
       "    <tr>\n",
       "      <th>3</th>\n",
       "      <td>175</td>\n",
       "      <td>131.480090</td>\n",
       "      <td>-314.800902</td>\n",
       "    </tr>\n",
       "    <tr>\n",
       "      <th>4</th>\n",
       "      <td>175</td>\n",
       "      <td>119.527355</td>\n",
       "      <td>-195.273547</td>\n",
       "    </tr>\n",
       "    <tr>\n",
       "      <th>5</th>\n",
       "      <td>175</td>\n",
       "      <td>108.661232</td>\n",
       "      <td>-86.612315</td>\n",
       "    </tr>\n",
       "    <tr>\n",
       "      <th>6</th>\n",
       "      <td>175</td>\n",
       "      <td>98.782938</td>\n",
       "      <td>12.170622</td>\n",
       "    </tr>\n",
       "    <tr>\n",
       "      <th>7</th>\n",
       "      <td>175</td>\n",
       "      <td>89.802671</td>\n",
       "      <td>101.973293</td>\n",
       "    </tr>\n",
       "  </tbody>\n",
       "</table>\n",
       "</div>"
      ],
      "text/plain": [
       "      UndiscountedCashFlows  DiscountedCashFlows  \\\n",
       "Year                                               \n",
       "0                      -750          -750.000000   \n",
       "1                       175           159.090909   \n",
       "2                       175           144.628099   \n",
       "3                       175           131.480090   \n",
       "4                       175           119.527355   \n",
       "5                       175           108.661232   \n",
       "6                       175            98.782938   \n",
       "7                       175            89.802671   \n",
       "\n",
       "      CumulativeDiscountedCashFlows  \n",
       "Year                                 \n",
       "0                       -750.000000  \n",
       "1                       -590.909091  \n",
       "2                       -446.280992  \n",
       "3                       -314.800902  \n",
       "4                       -195.273547  \n",
       "5                        -86.612315  \n",
       "6                         12.170622  \n",
       "7                        101.973293  "
      ]
     },
     "execution_count": 5,
     "metadata": {},
     "output_type": "execute_result"
    }
   ],
   "source": [
    "cf_df['CumulativeDiscountedCashFlows'] = np.cumsum(cf_df['DiscountedCashFlows'])\n",
    "cf_df"
   ]
  },
  {
   "cell_type": "markdown",
   "metadata": {},
   "source": [
    "As you can see in the output above, at the end of Year 6, the value of Cumulative Discounted Cash Flows becomes positive for the first time. This means that project has recovered its original investment and has now entered the realm of profitability.\n",
    "Therefore, the discounted payback period is between five and six years. Let’s see at what point in the sixth year the project becomes profitable. For this, we will divide the cumulative sum at the end of the fifth year by the sixth year’s discounted cash flow."
   ]
  },
  {
   "cell_type": "code",
   "execution_count": 6,
   "metadata": {},
   "outputs": [
    {
     "data": {
      "text/plain": [
       "5"
      ]
     },
     "execution_count": 6,
     "metadata": {},
     "output_type": "execute_result"
    }
   ],
   "source": [
    "final_full_year = cf_df[cf_df.CumulativeDiscountedCashFlows < 0].index.values.max()\n",
    "final_full_year"
   ]
  },
  {
   "cell_type": "code",
   "execution_count": 7,
   "metadata": {},
   "outputs": [
    {
     "data": {
      "text/plain": [
       "0.87679428571428863"
      ]
     },
     "execution_count": 7,
     "metadata": {},
     "output_type": "execute_result"
    }
   ],
   "source": [
    "fractional_yr = -cf_df.CumulativeDiscountedCashFlows[final_full_year ] / cf_df.DiscountedCashFlows[final_full_year + 1]\n",
    "fractional_yr"
   ]
  },
  {
   "cell_type": "code",
   "execution_count": 8,
   "metadata": {},
   "outputs": [
    {
     "data": {
      "text/plain": [
       "5.876794285714289"
      ]
     },
     "execution_count": 8,
     "metadata": {},
     "output_type": "execute_result"
    }
   ],
   "source": [
    "payback_period = final_full_year + fractional_yr\n",
    "payback_period"
   ]
  },
  {
   "cell_type": "markdown",
   "metadata": {},
   "source": [
    "Let’s save the above code as a function and call it on different projects."
   ]
  },
  {
   "cell_type": "code",
   "execution_count": 9,
   "metadata": {
    "collapsed": true
   },
   "outputs": [],
   "source": [
    "def discounted_payback_period(rate, cash_flows=list()):    \n",
    "    cf_df = DataFrame(cash_flows, columns=['UndiscountedCashFlows'])\n",
    "    cf_df.index.name = 'Year'\n",
    "    cf_df['DiscountedCashFlows'] = np.pv(rate=rate, pmt=0, nper=cf_df.index, fv=-cf_df['UndiscountedCashFlows'])\n",
    "    cf_df['CumulativeDiscountedCashFlows'] = np.cumsum(cf_df['DiscountedCashFlows'])\n",
    "    final_full_year = cf_df[cf_df.CumulativeDiscountedCashFlows < 0].index.values.max()\n",
    "    fractional_yr = -cf_df.CumulativeDiscountedCashFlows[final_full_year ] / cf_df.DiscountedCashFlows[final_full_year + 1]\n",
    "    payback_period = final_full_year + fractional_yr\n",
    "    return payback_period"
   ]
  },
  {
   "cell_type": "markdown",
   "metadata": {},
   "source": [
    "# Example 1:\n",
    "\n",
    "Calculate the discounted payback period of a project which requires an initial investment of \\$5,000 million and results in cash flows of \\$1,500 million each for the next 5 years. The expected rate of return is 10%."
   ]
  },
  {
   "cell_type": "code",
   "execution_count": 10,
   "metadata": {},
   "outputs": [
    {
     "name": "stdout",
     "output_type": "stream",
     "text": [
      "The discounted payback period for this project is 4.26 years.\n"
     ]
    }
   ],
   "source": [
    "rate = 0.1\n",
    "cash_flows = [-5000] + [1500] * 5\n",
    "print('The discounted payback period for this project is {:.2f} years.'.format(discounted_payback_period(rate, cash_flows)))"
   ]
  },
  {
   "cell_type": "markdown",
   "metadata": {},
   "source": [
    "# Example 2:\n",
    "\n",
    "Consider a project with the following cash flows. Calculate its discounted payback period for a rate of return of 8%.<br>\n",
    "**Year 0:** Initial investment of \\$50,000,<br>\n",
    "**Years 1 and 2:** Cash inflows of \\$15,000 each,<br>\n",
    "**Year 3:** Cash inflow of \\$20,000,<br>\n",
    "**Year 4:** Cash inflow of \\$10,000, and<br>\n",
    "**Year 5:** Cash inflow of \\$5,000<br>"
   ]
  },
  {
   "cell_type": "code",
   "execution_count": 11,
   "metadata": {},
   "outputs": [
    {
     "name": "stdout",
     "output_type": "stream",
     "text": [
      "The discounted payback period for this project is 4.01 years.\n"
     ]
    }
   ],
   "source": [
    "rate = 0.08\n",
    "cash_flows = [-50000, 15000, 15000, 20000, 10000, 5000]\n",
    "print('The discounted payback period for this project is {:.2f} years.'.format(discounted_payback_period(rate, cash_flows)))"
   ]
  }
 ],
 "metadata": {
  "kernelspec": {
   "display_name": "Python 3",
   "language": "python",
   "name": "python3"
  },
  "language_info": {
   "codemirror_mode": {
    "name": "ipython",
    "version": 3
   },
   "file_extension": ".py",
   "mimetype": "text/x-python",
   "name": "python",
   "nbconvert_exporter": "python",
   "pygments_lexer": "ipython3",
   "version": "3.6.1"
  }
 },
 "nbformat": 4,
 "nbformat_minor": 2
}
