{
 "cells": [
  {
   "cell_type": "markdown",
   "metadata": {},
   "source": [
    "A typical configuration file consists of groups of key/value entries grouped under different sections. Each section begins with a *[section]* header followed by the key/values entries separated by a delimiter. *=* or *:* are the most commonly used delimiters.\n",
    "\n",
    "Let's see how *ConfigParser*, a Python standard library, can be used to read such external configuration files. We shall use the *example.ini* configuration file as a sample configuration file."
   ]
  },
  {
   "cell_type": "markdown",
   "metadata": {},
   "source": [
    "Let's first print the contents of this file."
   ]
  },
  {
   "cell_type": "code",
   "execution_count": 1,
   "metadata": {},
   "outputs": [
    {
     "name": "stdout",
     "output_type": "stream",
     "text": [
      "[DEFAULT]\n",
      "database_name = mytestdatabase\n",
      "database_port = 22\n",
      "\n",
      "[myqadatabase]\n",
      "server = myqaserver\n",
      "user = test_qa_user\n",
      "password = test_qa_password\n",
      "\n",
      "[mydevdatabase]\n",
      "server = mydevserver\n",
      "user = test_dev_user\n",
      "password = test_dev_password\n",
      "\n",
      "[myproddatabase]\n",
      "server = myprodserver\n",
      "user = test_prod_user\n",
      "password = test_prod_password\n"
     ]
    }
   ],
   "source": [
    "with open('example.ini', 'r') as f_in:\n",
    "    print(f_in.read())"
   ]
  },
  {
   "cell_type": "markdown",
   "metadata": {},
   "source": [
    "We can see that the file contains four sections--*DEFAULT, myqadatabase, mydevdatabase, and myproddatabase*--and each section has its own set of key/value pairs. Let's use *ConfigParser* to read this file."
   ]
  },
  {
   "cell_type": "code",
   "execution_count": 2,
   "metadata": {},
   "outputs": [],
   "source": [
    "import configparser"
   ]
  },
  {
   "cell_type": "code",
   "execution_count": 3,
   "metadata": {},
   "outputs": [
    {
     "data": {
      "text/plain": [
       "['example.ini']"
      ]
     },
     "execution_count": 3,
     "metadata": {},
     "output_type": "execute_result"
    }
   ],
   "source": [
    "config = configparser.ConfigParser()\n",
    "config.read('example.ini')"
   ]
  },
  {
   "cell_type": "markdown",
   "metadata": {},
   "source": [
    "To see a list of all sections, call the sections() method. Note that the *default* sections is excluded from the output."
   ]
  },
  {
   "cell_type": "code",
   "execution_count": 4,
   "metadata": {},
   "outputs": [
    {
     "data": {
      "text/plain": [
       "['myqadatabase', 'mydevdatabase', 'myproddatabase']"
      ]
     },
     "execution_count": 4,
     "metadata": {},
     "output_type": "execute_result"
    }
   ],
   "source": [
    "config.sections()"
   ]
  },
  {
   "cell_type": "markdown",
   "metadata": {},
   "source": [
    "List all keys in a particular section:"
   ]
  },
  {
   "cell_type": "code",
   "execution_count": 5,
   "metadata": {},
   "outputs": [
    {
     "data": {
      "text/plain": [
       "['server', 'user', 'password', 'database_name', 'database_port']"
      ]
     },
     "execution_count": 5,
     "metadata": {},
     "output_type": "execute_result"
    }
   ],
   "source": [
    "config.options('mydevdatabase')"
   ]
  },
  {
   "cell_type": "markdown",
   "metadata": {},
   "source": [
    "The config parser is very similar to a dictionary, and hence, its elements can be accessed in much the same way as a dictionary's.\n",
    "\n",
    "Get the value of a specific key in a section:"
   ]
  },
  {
   "cell_type": "code",
   "execution_count": 6,
   "metadata": {},
   "outputs": [
    {
     "data": {
      "text/plain": [
       "'test_qa_user'"
      ]
     },
     "execution_count": 6,
     "metadata": {},
     "output_type": "execute_result"
    }
   ],
   "source": [
    "config['myqadatabase']['user']"
   ]
  },
  {
   "cell_type": "markdown",
   "metadata": {},
   "source": [
    "Get all key/value pairs in a section:"
   ]
  },
  {
   "cell_type": "code",
   "execution_count": 7,
   "metadata": {},
   "outputs": [
    {
     "name": "stdout",
     "output_type": "stream",
     "text": [
      "server=myprodserver\n",
      "user=test_prod_user\n",
      "password=test_prod_password\n",
      "database_name=mytestdatabase\n",
      "database_port=22\n"
     ]
    }
   ],
   "source": [
    "for key, value in config['myproddatabase'].items():\n",
    "    print('{}={}'.format(key, value))"
   ]
  },
  {
   "cell_type": "markdown",
   "metadata": {},
   "source": [
    "The default section is a special section that provides default values for all other sections in the configuration file. The key/value pairs of this section can be obtained as follows:"
   ]
  },
  {
   "cell_type": "code",
   "execution_count": 8,
   "metadata": {},
   "outputs": [
    {
     "data": {
      "text/plain": [
       "OrderedDict([('database_name', 'mytestdatabase'), ('database_port', '22')])"
      ]
     },
     "execution_count": 8,
     "metadata": {},
     "output_type": "execute_result"
    }
   ],
   "source": [
    "config.defaults()"
   ]
  },
  {
   "cell_type": "markdown",
   "metadata": {},
   "source": [
    "The values in the *default* section are available to all other sections. For example, if we query the *database_name* key in the *mydevdatabase* section, the value will be taken from *default* section because the *mydevdatabase* doesn't have an explicit key with this name."
   ]
  },
  {
   "cell_type": "code",
   "execution_count": 9,
   "metadata": {},
   "outputs": [
    {
     "data": {
      "text/plain": [
       "'mytestdatabase'"
      ]
     },
     "execution_count": 9,
     "metadata": {},
     "output_type": "execute_result"
    }
   ],
   "source": [
    "config['mydevdatabase']['database_name']"
   ]
  },
  {
   "cell_type": "markdown",
   "metadata": {},
   "source": [
    "As with a dictionary, each section comes with a get() method that can be used to provide fallback values for non-existent keys."
   ]
  },
  {
   "cell_type": "code",
   "execution_count": 10,
   "metadata": {},
   "outputs": [
    {
     "data": {
      "text/plain": [
       "'mytestprodschema'"
      ]
     },
     "execution_count": 10,
     "metadata": {},
     "output_type": "execute_result"
    }
   ],
   "source": [
    "config['myproddatabase'].get('schema', 'mytestprodschema')"
   ]
  },
  {
   "cell_type": "markdown",
   "metadata": {},
   "source": [
    "Note that the default value takes precedence over any fallback value. For example, if we try to get the *database_port* from the *myqadatabase* section, the  value returned will be the one from the *default* section instead of the specified fallback value."
   ]
  },
  {
   "cell_type": "code",
   "execution_count": 11,
   "metadata": {},
   "outputs": [
    {
     "data": {
      "text/plain": [
       "'22'"
      ]
     },
     "execution_count": 11,
     "metadata": {},
     "output_type": "execute_result"
    }
   ],
   "source": [
    "config['myqadatabase'].get('database_port', '80')"
   ]
  }
 ],
 "metadata": {
  "kernelspec": {
   "display_name": "Python 3",
   "language": "python",
   "name": "python3"
  },
  "language_info": {
   "codemirror_mode": {
    "name": "ipython",
    "version": 3
   },
   "file_extension": ".py",
   "mimetype": "text/x-python",
   "name": "python",
   "nbconvert_exporter": "python",
   "pygments_lexer": "ipython3",
   "version": "3.6.1"
  }
 },
 "nbformat": 4,
 "nbformat_minor": 2
}
