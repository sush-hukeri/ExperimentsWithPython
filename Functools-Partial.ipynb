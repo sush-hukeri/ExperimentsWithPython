{
 "cells": [
  {
   "cell_type": "code",
   "execution_count": 1,
   "metadata": {},
   "outputs": [],
   "source": [
    "import pandas as pd\n",
    "from functools import partial"
   ]
  },
  {
   "cell_type": "markdown",
   "metadata": {},
   "source": [
    "For our example, we will define a function that returns payment dates when it is given the *payment frequency, payment start date* and the *number of payments* as inputs. We shall use the *pandas __[date_range](http://pandas.pydata.org/pandas-docs/stable/timeseries.html)__* tool to calculate the dates."
   ]
  },
  {
   "cell_type": "code",
   "execution_count": 2,
   "metadata": {
    "collapsed": true
   },
   "outputs": [],
   "source": [
    "def get_payment_dates(start_date, periods, freq):\n",
    "    return pd.date_range(start_date, periods=periods, freq=freq)"
   ]
  },
  {
   "cell_type": "markdown",
   "metadata": {},
   "source": [
    "Given the base function above, we can now define __[partial functions](https://docs.python.org/3/library/functools.html#functools.partial)__ as follows:"
   ]
  },
  {
   "cell_type": "code",
   "execution_count": 3,
   "metadata": {},
   "outputs": [],
   "source": [
    "# Define a function that returns payment dates falling on the last business day of the month\n",
    "month_end_payments = partial(get_payment_dates, freq='BM')\n",
    "\n",
    "# semi-month end frequency (15th and end of month) \n",
    "semi_month_end_payments = partial(get_payment_dates, freq='SM')\n",
    "\n",
    "# business year end frequency\n",
    "annual_payments = partial(get_payment_dates, freq='BA')"
   ]
  },
  {
   "cell_type": "markdown",
   "metadata": {},
   "source": [
    "<div class=\"alert alert-block alert-info\">For a complete list of frequency aliases supported by pandas.date_range: __[click here](http://pandas.pydata.org/pandas-docs/stable/timeseries.html#offset-aliases)__.</div>"
   ]
  },
  {
   "cell_type": "code",
   "execution_count": 4,
   "metadata": {
    "collapsed": true
   },
   "outputs": [],
   "source": [
    "start_date = pd.to_datetime('now')\n",
    "periods = 10"
   ]
  },
  {
   "cell_type": "code",
   "execution_count": 5,
   "metadata": {
    "scrolled": true
   },
   "outputs": [
    {
     "data": {
      "text/plain": [
       "DatetimeIndex(['2017-10-31 02:55:04', '2017-11-30 02:55:04',\n",
       "               '2017-12-29 02:55:04', '2018-01-31 02:55:04',\n",
       "               '2018-02-28 02:55:04', '2018-03-30 02:55:04',\n",
       "               '2018-04-30 02:55:04', '2018-05-31 02:55:04',\n",
       "               '2018-06-29 02:55:04', '2018-07-31 02:55:04'],\n",
       "              dtype='datetime64[ns]', freq='BM')"
      ]
     },
     "execution_count": 5,
     "metadata": {},
     "output_type": "execute_result"
    }
   ],
   "source": [
    "month_end_payments(start_date, periods)"
   ]
  },
  {
   "cell_type": "code",
   "execution_count": 6,
   "metadata": {},
   "outputs": [
    {
     "data": {
      "text/plain": [
       "DatetimeIndex(['2017-10-15 02:55:04', '2017-10-31 02:55:04',\n",
       "               '2017-11-15 02:55:04', '2017-11-30 02:55:04',\n",
       "               '2017-12-15 02:55:04', '2017-12-31 02:55:04',\n",
       "               '2018-01-15 02:55:04', '2018-01-31 02:55:04',\n",
       "               '2018-02-15 02:55:04', '2018-02-28 02:55:04'],\n",
       "              dtype='datetime64[ns]', freq='SM-15')"
      ]
     },
     "execution_count": 6,
     "metadata": {},
     "output_type": "execute_result"
    }
   ],
   "source": [
    "semi_month_end_payments(start_date, periods)"
   ]
  },
  {
   "cell_type": "code",
   "execution_count": 7,
   "metadata": {
    "scrolled": true
   },
   "outputs": [
    {
     "data": {
      "text/plain": [
       "DatetimeIndex(['2017-12-29 02:55:04', '2018-12-31 02:55:04',\n",
       "               '2019-12-31 02:55:04', '2020-12-31 02:55:04',\n",
       "               '2021-12-31 02:55:04', '2022-12-30 02:55:04',\n",
       "               '2023-12-29 02:55:04', '2024-12-31 02:55:04',\n",
       "               '2025-12-31 02:55:04', '2026-12-31 02:55:04'],\n",
       "              dtype='datetime64[ns]', freq='BA-DEC')"
      ]
     },
     "execution_count": 7,
     "metadata": {},
     "output_type": "execute_result"
    }
   ],
   "source": [
    "annual_payments(start_date, periods)"
   ]
  }
 ],
 "metadata": {
  "kernelspec": {
   "display_name": "Python 3",
   "language": "python",
   "name": "python3"
  },
  "language_info": {
   "codemirror_mode": {
    "name": "ipython",
    "version": 3
   },
   "file_extension": ".py",
   "mimetype": "text/x-python",
   "name": "python",
   "nbconvert_exporter": "python",
   "pygments_lexer": "ipython3",
   "version": "3.6.2"
  }
 },
 "nbformat": 4,
 "nbformat_minor": 2
}
