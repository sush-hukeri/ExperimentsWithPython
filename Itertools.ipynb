{
 "cells": [
  {
   "cell_type": "markdown",
   "metadata": {},
   "source": [
    "In this notebook, we will take a look at the built-in *__[itertools](https://docs.python.org/3/library/itertools.html#module-itertools)__* library.<br>\n",
    "From the documentation, \n",
    "> *The module defines a core set of fast, memory efficient tools that are useful by themselves or in combination.*\n",
    "\n",
    "These tools/iterators can be used to reduce the need for nested *for* loops and improve the readability of code.\n",
    "\n",
    "We will take at the following iterators:\n",
    "1. __[islice(iterable, stop)](https://docs.python.org/3/library/itertools.html#itertools.islice)__\n",
    "2. __[islice(iterable, start, stop)](https://docs.python.org/3/library/itertools.html#itertools.islice)__\n",
    "3. __[dropwhile(predicate, iterable)](https://docs.python.org/3/library/itertools.html#itertools.dropwhile)__\n",
    "4. __[takewhile(predicate, iterable)](https://docs.python.org/3/library/itertools.html#itertools.takewhile)__\n",
    "5. __[filterfalse(predicate, iterable)](https://docs.python.org/3/library/itertools.html#itertools.filterfalse)__"
   ]
  },
  {
   "cell_type": "code",
   "execution_count": 1,
   "metadata": {
    "collapsed": true
   },
   "outputs": [],
   "source": [
    "import itertools"
   ]
  },
  {
   "cell_type": "markdown",
   "metadata": {},
   "source": [
    "We start by defining an (infinite) generator that yields the next integer in the __[*Fibonacci* sequence](https://en.wikipedia.org/wiki/Fibonacci_number)__ whenever it is called."
   ]
  },
  {
   "cell_type": "code",
   "execution_count": 2,
   "metadata": {
    "collapsed": true
   },
   "outputs": [],
   "source": [
    "def fibonacci_sequence_generator():\n",
    "    a, b = 1, 1\n",
    "    while True:\n",
    "        yield a\n",
    "        a, b = b, a + b"
   ]
  },
  {
   "cell_type": "markdown",
   "metadata": {},
   "source": [
    "Let's see how we can use *itertools'* iterators with this generator.\n",
    "\n",
    "# Getting the first *n* numbers in the sequence\n",
    "\n",
    "This can be achieved by using the *itertools.islice(iterable, stop)* iterator."
   ]
  },
  {
   "cell_type": "code",
   "execution_count": 3,
   "metadata": {},
   "outputs": [
    {
     "name": "stdout",
     "output_type": "stream",
     "text": [
      "[1, 1, 2, 3, 5, 8, 13, 21, 34, 55]\n"
     ]
    }
   ],
   "source": [
    "n = 10\n",
    "my_iterator = itertools.islice(fibonacci_sequence_generator(), n)\n",
    "print([x for x in my_iterator])"
   ]
  },
  {
   "cell_type": "markdown",
   "metadata": {},
   "source": [
    "# Getting the *nth* number in the sequence\n",
    "\n",
    "This can be obtained using the *islice(iterable, start, stop)* iterator."
   ]
  },
  {
   "cell_type": "code",
   "execution_count": 4,
   "metadata": {},
   "outputs": [
    {
     "name": "stdout",
     "output_type": "stream",
     "text": [
      "The 50th integer in the Fibonacci sequence is 12586269025.\n"
     ]
    }
   ],
   "source": [
    "n = 50\n",
    "my_iterator = itertools.islice(fibonacci_sequence_generator(), n - 1, None)\n",
    "print('The {}th integer in the Fibonacci sequence is {}.'.format(n, next(my_iterator)))"
   ]
  },
  {
   "cell_type": "markdown",
   "metadata": {},
   "source": [
    "# Getting the first n-digit number in the sequence\n",
    "\n",
    "We can get this using itertools' *dropwhile(predicate, iterable)* iterator. This iterator drops all of *iterables* elements for as long a the *predicate* evaluates to True. It returns all subsequent elements of *iterable* after *predicate* evaluates to False.\n",
    "\n",
    "**For example:** The following returns the first 7-digit number in the sequence, "
   ]
  },
  {
   "cell_type": "code",
   "execution_count": 5,
   "metadata": {},
   "outputs": [
    {
     "data": {
      "text/plain": [
       "1346269"
      ]
     },
     "execution_count": 5,
     "metadata": {},
     "output_type": "execute_result"
    }
   ],
   "source": [
    "n = 7\n",
    "my_iterator = itertools.dropwhile(lambda x: len(str(x)) < n, fibonacci_sequence_generator())\n",
    "next(my_iterator)"
   ]
  },
  {
   "cell_type": "markdown",
   "metadata": {},
   "source": [
    "# Get all numbers in the sequence that are less than n-digits long\n",
    "\n",
    "Make an iterator that returns elements from the iterable as long as the predicate is true. Roughly equivalent to:\n",
    "\n",
    "This can be obtained using itertools' *takewhile(predicate, iterable)* iterator. Unlike dropwhile(), this iterator returns all of *iterables* elements for as long a the *predicate* evaluates to True. It exits as soon as *predicate* eveluates to False.\n",
    "\n",
    "**For example:** Return all *Fibonacci* numbers that are less than 4-digits long "
   ]
  },
  {
   "cell_type": "code",
   "execution_count": 6,
   "metadata": {},
   "outputs": [
    {
     "data": {
      "text/plain": [
       "[1, 1, 2, 3, 5, 8, 13, 21, 34, 55, 89, 144, 233, 377, 610, 987]"
      ]
     },
     "execution_count": 6,
     "metadata": {},
     "output_type": "execute_result"
    }
   ],
   "source": [
    "n = 4\n",
    "my_iterator = itertools.takewhile(lambda x: len(str(x)) < n, fibonacci_sequence_generator())\n",
    "[x for x in my_iterator]"
   ]
  },
  {
   "cell_type": "markdown",
   "metadata": {},
   "source": [
    "# Find all odd numbers from the first n numbers in the sequence\n",
    "\n",
    "*filterfalse(predicate, iterable)*, which returns all elements from *iterable* for which *predicate* is False, can be used with *islice()*, to get this result.\n",
    "\n",
    "**For example:** Return all odd numbers from the first 50 numbers of the *Fibonacci* sequence"
   ]
  },
  {
   "cell_type": "code",
   "execution_count": 7,
   "metadata": {},
   "outputs": [
    {
     "name": "stdout",
     "output_type": "stream",
     "text": [
      "[1, 1, 3, 5, 13, 21, 55, 89, 233, 377, 987, 1597, 4181, 6765, 17711, 28657, 75025, 121393, 317811, 514229, 1346269, 2178309, 5702887, 9227465, 24157817, 39088169, 102334155, 165580141, 433494437, 701408733, 1836311903, 2971215073, 7778742049, 12586269025]\n"
     ]
    }
   ],
   "source": [
    "n = 50\n",
    "my_iterator = itertools.filterfalse(lambda x: x % 2 == 0, itertools.islice(fibonacci_sequence_generator(), n))\n",
    "print([x for x in my_iterator])"
   ]
  },
  {
   "cell_type": "markdown",
   "metadata": {},
   "source": [
    "The same result as above can also be obtained by using Python's built-in *filter()* function"
   ]
  },
  {
   "cell_type": "code",
   "execution_count": 8,
   "metadata": {},
   "outputs": [
    {
     "name": "stdout",
     "output_type": "stream",
     "text": [
      "[1, 1, 3, 5, 13, 21, 55, 89, 233, 377, 987, 1597, 4181, 6765, 17711, 28657, 75025, 121393, 317811, 514229, 1346269, 2178309, 5702887, 9227465, 24157817, 39088169, 102334155, 165580141, 433494437, 701408733, 1836311903, 2971215073, 7778742049, 12586269025]\n"
     ]
    }
   ],
   "source": [
    "my_iterator = filter(lambda x: x % 2, itertools.islice(fibonacci_sequence_generator(), n))\n",
    "print([x for x in my_iterator])"
   ]
  }
 ],
 "metadata": {
  "kernelspec": {
   "display_name": "Python 3",
   "language": "python",
   "name": "python3"
  },
  "language_info": {
   "codemirror_mode": {
    "name": "ipython",
    "version": 3
   },
   "file_extension": ".py",
   "mimetype": "text/x-python",
   "name": "python",
   "nbconvert_exporter": "python",
   "pygments_lexer": "ipython3",
   "version": "3.6.2"
  }
 },
 "nbformat": 4,
 "nbformat_minor": 2
}
