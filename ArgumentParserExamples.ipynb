{
 "cells": [
  {
   "cell_type": "markdown",
   "metadata": {},
   "source": [
    "Here, we will take a look at the *argparse* module which helps us pass and parse command-line arguments to our Python programs.\n",
    "<br><br>\n",
    "It helps us define what arguments can be passed and how to parse them."
   ]
  },
  {
   "cell_type": "code",
   "execution_count": 1,
   "metadata": {
    "collapsed": true
   },
   "outputs": [],
   "source": [
    "import argparse"
   ]
  },
  {
   "cell_type": "code",
   "execution_count": 2,
   "metadata": {},
   "outputs": [],
   "source": [
    "parser = argparse.ArgumentParser(description='Parse command-line arguments')"
   ]
  },
  {
   "cell_type": "code",
   "execution_count": 3,
   "metadata": {
    "collapsed": true
   },
   "outputs": [
    {
     "data": {
      "text/plain": [
       "_StoreConstAction(option_strings=['--answer_to_the_ultimate_question'], dest='answer_to_the_ultimate_question', nargs=0, const=42, default=None, type=None, choices=None, help='Pass this argument to know the Answer to the Ultimate Question of Life, the Universe, and Everything', metavar=None)"
      ]
     },
     "execution_count": 3,
     "metadata": {},
     "output_type": "execute_result"
    }
   ],
   "source": [
    "parser.add_argument('--foo', help='Enter value for foo.')\n",
    "parser.add_argument('--verbose', '-v', help='If specified, the output will be verbose.', action='store_true')\n",
    "parser.add_argument('--counter', '-c', action='count')\n",
    "parser.add_argument('--answer_to_the_ultimate_question', action='store_const', const=42,\n",
    "                    help='Pass this argument to know the Answer to the Ultimate Question of Life, the Universe, and Everything')"
   ]
  },
  {
   "cell_type": "code",
   "execution_count": 4,
   "metadata": {},
   "outputs": [
    {
     "data": {
      "text/plain": [
       "Namespace(answer_to_the_ultimate_question=42, counter=3, foo='foo.txt', verbose=True)"
      ]
     },
     "execution_count": 4,
     "metadata": {},
     "output_type": "execute_result"
    }
   ],
   "source": [
    "parsed_args = parser.parse_args('--foo foo.txt -v -ccc --answer_to_the_ultimate_question'.split())\n",
    "parsed_args"
   ]
  },
  {
   "cell_type": "code",
   "execution_count": 5,
   "metadata": {},
   "outputs": [],
   "source": [
    "assert parsed_args.foo == 'foo.txt'"
   ]
  },
  {
   "cell_type": "code",
   "execution_count": 6,
   "metadata": {
    "collapsed": true
   },
   "outputs": [],
   "source": [
    "assert parsed_args.verbose"
   ]
  },
  {
   "cell_type": "code",
   "execution_count": 7,
   "metadata": {},
   "outputs": [],
   "source": [
    "assert parsed_args.counter == 3"
   ]
  },
  {
   "cell_type": "code",
   "execution_count": 8,
   "metadata": {},
   "outputs": [
    {
     "name": "stdout",
     "output_type": "stream",
     "text": [
      "The answer to the ultimate question of Life, the Universe, and Everything is 42.\n"
     ]
    }
   ],
   "source": [
    "print('The answer to the ultimate question of Life, the Universe, and Everything is {}.'.format(\n",
    "    parsed_args.answer_to_the_ultimate_question))"
   ]
  }
 ],
 "metadata": {
  "kernelspec": {
   "display_name": "Python 3",
   "language": "python",
   "name": "python3"
  },
  "language_info": {
   "codemirror_mode": {
    "name": "ipython",
    "version": 3
   },
   "file_extension": ".py",
   "mimetype": "text/x-python",
   "name": "python",
   "nbconvert_exporter": "python",
   "pygments_lexer": "ipython3",
   "version": "3.6.1"
  }
 },
 "nbformat": 4,
 "nbformat_minor": 2
}
