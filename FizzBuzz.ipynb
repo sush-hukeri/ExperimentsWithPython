{
 "cells": [
  {
   "cell_type": "markdown",
   "metadata": {},
   "source": [
    "Write a program that prints the numbers from 1 to 100. But: <br>\n",
    "- For multiples of **three**, print **Fizz** instead of the number, and\n",
    "- For multiples of **five**, print **Buzz**, and\n",
    "- For numbers which are multiples of **both three and five**, print **FizzBuzz**."
   ]
  },
  {
   "cell_type": "code",
   "execution_count": 1,
   "metadata": {
    "collapsed": false
   },
   "outputs": [
    {
     "name": "stdout",
     "output_type": "stream",
     "text": [
      "1.11.3\n"
     ]
    }
   ],
   "source": [
    "import numpy as np\n",
    "print(np.__version__)"
   ]
  },
  {
   "cell_type": "code",
   "execution_count": 2,
   "metadata": {
    "collapsed": true
   },
   "outputs": [],
   "source": [
    "def fizzbuzz_without_numpy(start, end):    \n",
    "    r_list = list()\n",
    "    for i in range(start, end + 1):\n",
    "        if i % (3 * 5) == 0:\n",
    "            r_list.append('FizzBuzz')\n",
    "        elif i % 3 == 0:\n",
    "            r_list.append('Fizz')\n",
    "        elif i % 5 == 0:\n",
    "            r_list.append('Buzz')\n",
    "        else:\n",
    "            r_list.append(i)\n",
    "    return r_list"
   ]
  },
  {
   "cell_type": "code",
   "execution_count": 3,
   "metadata": {
    "collapsed": true
   },
   "outputs": [],
   "source": [
    "def fizzbuzz_with_numpy(start, end):\n",
    "    t_array = np.arange(start, end + 1)\n",
    "    return np.where(t_array % (3 * 5) == 0, 'FizzBuzz',\n",
    "                   np.where(t_array % 3 == 0, 'Fizz',\n",
    "                   np.where(t_array % 5 == 0, 'Buzz', t_array)))"
   ]
  },
  {
   "cell_type": "code",
   "execution_count": 4,
   "metadata": {
    "collapsed": false
   },
   "outputs": [
    {
     "data": {
      "text/plain": [
       "array(['1', '2', 'Fizz', '4', 'Buzz', 'Fizz', '7', '8', 'Fizz', 'Buzz',\n",
       "       '11', 'Fizz', '13', '14', 'FizzBuzz', '16', '17', 'Fizz', '19',\n",
       "       'Buzz', 'Fizz', '22', '23', 'Fizz', 'Buzz', '26', 'Fizz', '28',\n",
       "       '29', 'FizzBuzz', '31', '32', 'Fizz', '34', 'Buzz', 'Fizz', '37',\n",
       "       '38', 'Fizz', 'Buzz', '41', 'Fizz', '43', '44', 'FizzBuzz', '46',\n",
       "       '47', 'Fizz', '49', 'Buzz', 'Fizz', '52', '53', 'Fizz', 'Buzz',\n",
       "       '56', 'Fizz', '58', '59', 'FizzBuzz', '61', '62', 'Fizz', '64',\n",
       "       'Buzz', 'Fizz', '67', '68', 'Fizz', 'Buzz', '71', 'Fizz', '73',\n",
       "       '74', 'FizzBuzz', '76', '77', 'Fizz', '79', 'Buzz', 'Fizz', '82',\n",
       "       '83', 'Fizz', 'Buzz', '86', 'Fizz', '88', '89', 'FizzBuzz', '91',\n",
       "       '92', 'Fizz', '94', 'Buzz', 'Fizz', '97', '98', 'Fizz', 'Buzz'], \n",
       "      dtype='|S11')"
      ]
     },
     "execution_count": 4,
     "metadata": {},
     "output_type": "execute_result"
    }
   ],
   "source": [
    "fizzbuzz_with_numpy(1, 100)"
   ]
  },
  {
   "cell_type": "code",
   "execution_count": 5,
   "metadata": {
    "collapsed": false
   },
   "outputs": [
    {
     "data": {
      "text/plain": [
       "True"
      ]
     },
     "execution_count": 5,
     "metadata": {},
     "output_type": "execute_result"
    }
   ],
   "source": [
    "(fizzbuzz_without_numpy(1, 100) == fizzbuzz_with_numpy(1, 100)).all()"
   ]
  },
  {
   "cell_type": "code",
   "execution_count": 6,
   "metadata": {
    "collapsed": false
   },
   "outputs": [
    {
     "name": "stdout",
     "output_type": "stream",
     "text": [
      "100000 loops, best of 3: 14.9 µs per loop\n",
      "100000 loops, best of 3: 15.8 µs per loop\n"
     ]
    }
   ],
   "source": [
    "%timeit fizzbuzz_without_numpy(1, 100)\n",
    "%timeit fizzbuzz_with_numpy(1, 100)"
   ]
  },
  {
   "cell_type": "markdown",
   "metadata": {},
   "source": [
    "Well, looks like there isn't much of a difference in performance using either of the approaches!\n",
    "\n",
    "Let's see what happens when we increase the range of numbers."
   ]
  },
  {
   "cell_type": "code",
   "execution_count": 7,
   "metadata": {
    "collapsed": false
   },
   "outputs": [
    {
     "name": "stdout",
     "output_type": "stream",
     "text": [
      "10 loops, best of 3: 319 ms per loop\n",
      "10 loops, best of 3: 89.9 ms per loop\n"
     ]
    }
   ],
   "source": [
    "%timeit fizzbuzz_without_numpy(1, 1000000)\n",
    "%timeit fizzbuzz_with_numpy(1, 1000000)"
   ]
  },
  {
   "cell_type": "markdown",
   "metadata": {},
   "source": [
    "There you go! With an increase in the range, the NumPy approach gives the result in less than 1/3rd the time taken by the regular Python approach."
   ]
  }
 ],
 "metadata": {
  "kernelspec": {
   "display_name": "Python 2",
   "language": "python",
   "name": "python2"
  },
  "language_info": {
   "codemirror_mode": {
    "name": "ipython",
    "version": 2.0
   },
   "file_extension": ".py",
   "mimetype": "text/x-python",
   "name": "python",
   "nbconvert_exporter": "python",
   "pygments_lexer": "ipython2",
   "version": "2.7.13"
  }
 },
 "nbformat": 4,
 "nbformat_minor": 0
}